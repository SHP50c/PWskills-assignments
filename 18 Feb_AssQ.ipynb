{
 "cells": [
  {
   "cell_type": "raw",
   "id": "9f8c3733-9523-430a-824f-052a83e3fc2d",
   "metadata": {},
   "source": [
    "1.What is an API? Give an example, where an API is used in real life.\n",
    "ans:API is the acronym for Application Programming Interface, which is a software intermediary that allows two applications to\n",
    "    talk to each other.\n",
    "    \n",
    "    One example of API in real life is:\n",
    "    Google map, Google Maps is a popular app on billions of mobile devices around the world, but you're probably aware of at\n",
    "    least a few dozen other apps that use Google Maps APIs to pull customized location data, send directions, and analyze all\n",
    "    types of location data that can help businesses provide better services and establish streamlined connections with\n",
    "    suppliers, customers, delivery services, and more. For example Instagram uses Gmap API to share the location on the post,\n",
    "    similarly a IOT based tracking device can be made that'll access the Gmaps through API and give live update of location."
   ]
  },
  {
   "cell_type": "raw",
   "id": "bc6829de-63cc-4668-9ddb-5370da211801",
   "metadata": {},
   "source": [
    "2.Give advantages and disadvantages of using API. \n",
    "ans:Advantages:\n",
    "    Applications: Access to APIs ensures more flexibility in information-transfer processes.\n",
    "    \n",
    "    Reach: APIs let you create layers in apps in order to distribute information to different audiences.\n",
    "    \n",
    "    Customization: Furthermore, it can serve as a solution to create different experiences for users, letting protocols,\n",
    "    functions, and commands be adapted according to specific demands.\n",
    "    \n",
    "    Efficiency: When you have content that is automatically published and made available on different channels simultaneously,\n",
    "    APIs allow for more efficient data distribution.\n",
    "    \n",
    "    Adaptability: One of the greatest benefits of APIs is the ability it has to adapt to changes through data migration and\n",
    "    flexibility of services.\n",
    "    \n",
    "    Disadvantages:\n",
    "     As a single point of entry, an API is a gateway and can become a hacker's primary target. Once the API is compromised, all\n",
    "     other applications and systems become vulnerable."
   ]
  },
  {
   "cell_type": "raw",
   "id": "9035852c-fd57-4b75-b75d-f02897dfddd3",
   "metadata": {},
   "source": [
    "3.What is a Web API? Differentiate between API and Web API.\n",
    "ans:Web API is an extensible framework for building HTTP based services that can be accessed in different applications on\n",
    "    different platforms such as web, windows, mobile etc.\n",
    "    \n",
    "    API:It is used to communicate between two different application within same system or in different system.\n",
    "        example of protocol is TCP Ip\n",
    "    Web API:It is used to communicate between different application on web.\n",
    "            It is a catagory of API \n",
    "            example of protocol is http"
   ]
  },
  {
   "cell_type": "raw",
   "id": "af0e62a5-c1ec-4363-884d-095b0b9e654a",
   "metadata": {},
   "source": [
    "4.Explain REST and SOAP Architecture. Mention shortcomings of SOAP.\n",
    "ans:REST:\n",
    "    REST stands for REpresentational State Transfer and API stands for Application Program Interface. REST is a software\n",
    "    architectural style that defines the set of rules to be used for creating web services. Web services which follow the REST\n",
    "    architectural style are known as RESTful web services. It allows requesting systems to access and manipulate web resources\n",
    "    by using a uniform and predefined set of rules. Interaction in REST based systems happen through Internet’s Hypertext\n",
    "    Transfer Protocol (HTTP)\n",
    "    \n",
    "    SOAP:\n",
    "    SOAP is a protocol for the exchange of information in a distributed environment. SOAP messages are encoded as XML documents\n",
    "    and can be exchanged using various underlying protocols.\n",
    "    \n",
    "    As SOAP can only transfer messages as XML files, your SOAP API will be less performant, as XML is a verbose format compared\n",
    "    to JSON. API calls made to your server will need more bandwidth and it will take more time to process the request and\n",
    "    transfer the response back to the client."
   ]
  },
  {
   "cell_type": "raw",
   "id": "004e63c2-6c27-4c09-bba5-2001b67414d9",
   "metadata": {},
   "source": [
    "5.Differentiate between REST and SOAP.\n",
    "ans:REST:\n",
    "    -Relies on REST (Representational State Transfer) architecture using HTTP.\n",
    "    -Generally transports data in JSON. It is based on URI. Because REST follows stateless model, REST does not enforces message\n",
    "     format as XML or JSON etc.\n",
    "    -It works with GET, POST, PUT, DELETE\n",
    "    -Works over HTTP and HTTPS\n",
    "    -Less structured -> less bulky data\n",
    "    -Designed with mobile devices in mind\n",
    "    \n",
    "    SOAP:\n",
    "    -Relies on SOAP (Simple Object Access Protocol)\n",
    "    -Transports data in standard XML format.\n",
    "    -Because it is XML based and relies on SOAP, it works with WSDL\n",
    "    -Works over HTTP, HTTPS, SMTP, XMPP\n",
    "    -Highly structured/typed\n",
    "    -Designed with large enterprise applications in mind"
   ]
  }
 ],
 "metadata": {
  "kernelspec": {
   "display_name": "Python 3 (ipykernel)",
   "language": "python",
   "name": "python3"
  },
  "language_info": {
   "codemirror_mode": {
    "name": "ipython",
    "version": 3
   },
   "file_extension": ".py",
   "mimetype": "text/x-python",
   "name": "python",
   "nbconvert_exporter": "python",
   "pygments_lexer": "ipython3",
   "version": "3.10.6"
  }
 },
 "nbformat": 4,
 "nbformat_minor": 5
}
