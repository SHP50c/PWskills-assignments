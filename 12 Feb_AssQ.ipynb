{
 "cells": [
  {
   "cell_type": "raw",
   "id": "3ea90d23-3839-4a23-8782-c1ca69820767",
   "metadata": {},
   "source": [
    "Q1.What is an Exception in python? Write the differen between Exceptions and syntax errors.\n",
    "ans:An exception is an event, which occurs during the execution of a program that disrupts the normal flow of the program's\n",
    "    instructions.\n",
    "    Errors are the problems in a program due to which the program will stop the execution. On the other hand, exceptions\n",
    "    are raised when some internal events occur which changes the normal flow of the program. "
   ]
  },
  {
   "cell_type": "raw",
   "id": "3828a64f-3cb4-4a15-883a-12871cf4240d",
   "metadata": {},
   "source": [
    "Q2. What happens when an exception is not handled? Explain with an example\n",
    "ans:If no exception is found, it is an unhandled exception and execution stops with a message as shown below."
   ]
  },
  {
   "cell_type": "code",
   "execution_count": 2,
   "id": "ebf3f7ba-e38c-4c12-98ab-a7937b5bae22",
   "metadata": {},
   "outputs": [
    {
     "ename": "SyntaxError",
     "evalue": "expected 'except' or 'finally' block (2886032407.py, line 4)",
     "output_type": "error",
     "traceback": [
      "\u001b[0;36m  Cell \u001b[0;32mIn [2], line 4\u001b[0;36m\u001b[0m\n\u001b[0;31m    print(\"this is my print\")\u001b[0m\n\u001b[0m    ^\u001b[0m\n\u001b[0;31mSyntaxError\u001b[0m\u001b[0;31m:\u001b[0m expected 'except' or 'finally' block\n"
     ]
    }
   ],
   "source": [
    "try:\n",
    "    f=open(\"test.txt\",\"r\")\n",
    "#except:\n",
    "print(\"this is my print\")"
   ]
  },
  {
   "cell_type": "raw",
   "id": "6912c29c-e0f2-40e7-8156-77b29ca9ba7f",
   "metadata": {},
   "source": [
    "Q3. Which Python statements are used to catch and handle exceptions? Explain with an example\n",
    "ans:try: and except: statements are used to catch and handle exceptions. for example"
   ]
  },
  {
   "cell_type": "code",
   "execution_count": 3,
   "id": "c70cc69c-0bd2-4876-b75e-b0ba294a0aa9",
   "metadata": {},
   "outputs": [
    {
     "name": "stdout",
     "output_type": "stream",
     "text": [
      "The index and element from the array is Python\n",
      "The index and element from the array is Exceptions\n",
      "The index and element from the array is try and except\n",
      "Index out of range\n"
     ]
    }
   ],
   "source": [
    "a = [\"Python\", \"Exceptions\", \"try and except\"]  \n",
    "try:  \n",
    "    for i in range( 4 ):  \n",
    "        print( \"The index and element from the array is\",a[i] )  \n",
    "except:  \n",
    "    print (\"Index out of range\")  "
   ]
  },
  {
   "cell_type": "raw",
   "id": "215e7202-9b69-4026-b3b2-ba8d558996cc",
   "metadata": {},
   "source": [
    "Q4.Explain with an example:\n",
    "a.try and else\n",
    "b.finally\n",
    "c.raise\n",
    "ans:a.try and else:\n",
    "    The try block lets you test a block of code for errors. The except block lets you handle the error.\n",
    "    b.finally\n",
    "    The finally block will always be executed, no matter if the try block raises an error or not.\n",
    "    c.raise\n",
    "     The raise keyword is used to raise an exception. You can define what kind of error to raise, and the text to print to\n",
    "     the user. note:- to make use of raise keyword we need to create an user defined exception as shown in below example.\n",
    "     example is shown below"
   ]
  },
  {
   "cell_type": "code",
   "execution_count": 11,
   "id": "c256552a-7f1c-40bb-bcc2-645cabec89e9",
   "metadata": {},
   "outputs": [
    {
     "name": "stdin",
     "output_type": "stream",
     "text": [
      "enter your age 23\n"
     ]
    },
    {
     "name": "stdout",
     "output_type": "stream",
     "text": [
      "age is valid\n",
      "end of program\n"
     ]
    }
   ],
   "source": [
    "class validateage(Exception):\n",
    "    def __init__(self,msg):\n",
    "        self.msg=msg\n",
    "#this class name cannot be same to that of the class which is inheriting Exception.\n",
    "def validage(age):\n",
    "    if age<0:\n",
    "        raise validateage(\"entered age is negative\")\n",
    "    elif age>200:\n",
    "        raise validateage(\"entered age is very very high\")\n",
    "    else:\n",
    "        print(\"age is valid\")\n",
    "try:\n",
    "    age=int(input(\"enter your age\"))\n",
    "    validage(age)\n",
    "except validateage as e:\n",
    "    print(e)\n",
    "finally:\n",
    "    print(\"end of program\")"
   ]
  },
  {
   "cell_type": "raw",
   "id": "9e48683b-7e81-4ea3-92fc-cf1def904e9b",
   "metadata": {},
   "source": [
    "Q5. What are Custom Exceptions in python? Why do we need Custom Exceptions? Explain with an example\n",
    "ans:custom exceptions are user defined exceptions. Custom exceptions provide you the flexibility to add attributes and\n",
    "    methods that are not part of a inbuilt python exception. In the above example we prompt the user to enter the age and\n",
    "    let's say the user enters invalid age like a negative value or a value that surpases the average human life expectancy,\n",
    "    then we want the program to raise an exception. Hence to fullfill that we create a custom exception that will be raised\n",
    "    when the user enters a negative value as age or a value above 200."
   ]
  },
  {
   "cell_type": "raw",
   "id": "2e1983d6-5e76-436a-bf64-fadad2e64b4f",
   "metadata": {},
   "source": [
    "6.Create custom exception class. Use this class to handle an exception."
   ]
  },
  {
   "cell_type": "code",
   "execution_count": 12,
   "id": "399d128f-1500-400a-8806-ce8f09204621",
   "metadata": {},
   "outputs": [
    {
     "name": "stdin",
     "output_type": "stream",
     "text": [
      "Enter a number:  12\n"
     ]
    },
    {
     "name": "stdout",
     "output_type": "stream",
     "text": [
      "entered age is not valid for voting\n"
     ]
    }
   ],
   "source": [
    "class InvalidAgeException(Exception):\n",
    "    def __init__(self,msg):\n",
    "        self.msg=msg\n",
    "def validage(age):\n",
    "    if age<18:\n",
    "        raise InvalidAgeException(\"entered age is not valid for voting\")\n",
    "    else:\n",
    "        print(\"age is valid\")\n",
    "try:\n",
    "    age=int(input(\"Enter a number: \"))\n",
    "    validage(age)\n",
    "except InvalidAgeException as e:\n",
    "    print(e)"
   ]
  },
  {
   "cell_type": "code",
   "execution_count": null,
   "id": "642b039c-d3b6-466c-8d51-6906604d1793",
   "metadata": {},
   "outputs": [],
   "source": []
  }
 ],
 "metadata": {
  "kernelspec": {
   "display_name": "Python 3 (ipykernel)",
   "language": "python",
   "name": "python3"
  },
  "language_info": {
   "codemirror_mode": {
    "name": "ipython",
    "version": 3
   },
   "file_extension": ".py",
   "mimetype": "text/x-python",
   "name": "python",
   "nbconvert_exporter": "python",
   "pygments_lexer": "ipython3",
   "version": "3.10.6"
  }
 },
 "nbformat": 4,
 "nbformat_minor": 5
}
