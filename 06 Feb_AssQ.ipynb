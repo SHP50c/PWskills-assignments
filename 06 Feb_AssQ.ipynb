{
 "cells": [
  {
   "cell_type": "raw",
   "id": "8fce41c4-484e-4529-a663-3f24fb996ba9",
   "metadata": {},
   "source": [
    "1.Create a function which will take a list as an argument and return the product of all the numbers\n",
    "after creating a flat list.\n",
    "Use the below-given list as an argument for your function.\n",
    "list1 = [1,2,3,4, [44,55,66, True], False, (34,56,78,89,34), {1,2,3,3,2,1}, {1:34, \"key2\": [55, 67, 78, 89], 4: (45,\n",
    "22, 61, 34)}, [56, 'data science'], 'Machine Learning']\n",
    "Note: you must extract numeric keys and values of the dictionary also."
   ]
  },
  {
   "cell_type": "code",
   "execution_count": 13,
   "id": "329cff42-364d-49ba-8798-89431c8bc78f",
   "metadata": {},
   "outputs": [
    {
     "name": "stdout",
     "output_type": "stream",
     "text": [
      "[1, 2, 3, 4, 44, 55, 66, 34, 56, 78, 89, 34, 1, 2, 3, 1, 4, 34, 55, 67, 78, 89, 45, 22, 61, 34, 56]\n",
      "4134711838987085478833841242112000\n"
     ]
    }
   ],
   "source": [
    "list1=[1,2,3,4,[44,55,66, True],False,(34,56,78,89,34),{1,2,3,3,2,1},\n",
    "       {1:34,\"key2\":[55, 67, 78, 89],4:(45,22,61,34)},[56,'data science'],'Machine Learning']\n",
    "def prod_list(l):\n",
    "    l1=[]\n",
    "    for i in l:\n",
    "        if type(i)==int or type(i)==float:\n",
    "            l1.append(i)\n",
    "        elif type(i)==list:\n",
    "            for j in i:\n",
    "                if type(j)==int or type(j)==float:\n",
    "                    l1.append(j)\n",
    "        elif type(i)==tuple:\n",
    "            for j in i:\n",
    "                if type(j)==int or type(j)==float:\n",
    "                    l1.append(j)\n",
    "        elif type(i)==set:\n",
    "            for j in i:\n",
    "                if type(j)==int or type(j)==float:\n",
    "                    l1.append(j)\n",
    "        elif type(i)==dict:\n",
    "            for key in i.keys():\n",
    "                if type(key)==int or type(key)==float:\n",
    "                    l1.append(key)\n",
    "            for val in i.values():\n",
    "                if type(val)==int or type(val)==float:\n",
    "                    l1.append(val)\n",
    "                if type(val)==list:\n",
    "                    for j in val:\n",
    "                        if type(j)==int or type(j)==float:\n",
    "                            l1.append(j)\n",
    "                elif type(val)==tuple:\n",
    "                    for j in val:\n",
    "                        if type(j)==int or type(j)==float:\n",
    "                            l1.append(j)\n",
    "                elif type(val)==set:\n",
    "                    for j in val:\n",
    "                        if type(j)==int or type(j)==float:\n",
    "                            l1.append(j)    \n",
    "    from functools import  reduce\n",
    "    prod=reduce(lambda x,y:x*y,l1)\n",
    "    #we can use the return keyword as well to return the values, just to make it look clean i've used print function.\n",
    "    print(l1)\n",
    "    print(prod)\n",
    "prod_list(list1)"
   ]
  },
  {
   "cell_type": "raw",
   "id": "97d6432b-55b0-4c0f-be16-606dc6d26d38",
   "metadata": {},
   "source": [
    "2.Write a python program for encrypting a message sent to you by your friend. The logic of encryption\n",
    "should be such that, for a the output should be z. For b, the output should be y. For c, the output should\n",
    "be x respectively. Also, the whitespace should be replaced with a dollar sign. Keep the punctuation\n",
    "marks unchanged.\n",
    "Input Sentence: I want to become a Data Scientist.\n",
    "Encrypt the above input sentence using the program you just created.\n",
    "Note: Convert the given input sentence into lowercase before encrypting. The final output should be\n",
    "lowercase.\n",
    "\"Honestly ye quetion solve karne mei mazza aa gaya. pehle mujhe laga ye ceasar cipher hei phir dhyan se padha tab patta challa alphabet reverse karne hei :-D anyway got to learn about two new functions here ord() and chr() which i have used to convert alphabats to ASCII and vise versa\""
   ]
  },
  {
   "cell_type": "code",
   "execution_count": 62,
   "id": "6260a3a9-efa5-4444-8de9-55b3c3815f60",
   "metadata": {},
   "outputs": [
    {
     "name": "stdout",
     "output_type": "stream",
     "text": [
      "r$dzmg$gl$yvxlnv$z$wzgz$hxrvmgrhg\n"
     ]
    }
   ],
   "source": [
    "s=\"I want to become a Data Scientist.\"\n",
    "s1=\"\"\n",
    "n=13\n",
    "for i in s.lower():\n",
    "    if i==\" \":\n",
    "        a=\"$\"\n",
    "        s1=s1+a\n",
    "    else:\n",
    "        num1=ord(\"a\")\n",
    "        num2=ord(\"z\")\n",
    "        while num1<=ord(\"z\") or num2>=ord(\"a\"): \n",
    "            if ord(i)==num1:\n",
    "                a=chr(num2)\n",
    "                s1=s1+a\n",
    "                num1=num1+1\n",
    "                num2=num2-1\n",
    "            else:\n",
    "                num1=num1+1\n",
    "                num2=num2-1\n",
    "        \n",
    "print(s1)"
   ]
  },
  {
   "cell_type": "code",
   "execution_count": 52,
   "id": "47f1652c-2170-49be-8900-fc33db16217b",
   "metadata": {},
   "outputs": [
    {
     "name": "stdout",
     "output_type": "stream",
     "text": [
      "97\n",
      "98\n",
      "99\n",
      "100\n",
      "101\n",
      "102\n",
      "103\n",
      "104\n",
      "105\n",
      "106\n",
      "107\n",
      "108\n",
      "109\n",
      "110\n",
      "111\n",
      "112\n",
      "113\n",
      "114\n",
      "115\n",
      "116\n",
      "117\n",
      "118\n",
      "119\n",
      "120\n",
      "121\n",
      "122\n",
      "122 97\n"
     ]
    }
   ],
   "source": [
    "for i in range(ord(\"a\"),ord(\"z\")+1):\n",
    "    print(i)\n",
    "print(ord(\"z\"),ord(\"a\"))"
   ]
  },
  {
   "cell_type": "code",
   "execution_count": null,
   "id": "6d4cefcd-c440-430e-adb3-d895815b9dcc",
   "metadata": {},
   "outputs": [],
   "source": []
  }
 ],
 "metadata": {
  "kernelspec": {
   "display_name": "Python 3 (ipykernel)",
   "language": "python",
   "name": "python3"
  },
  "language_info": {
   "codemirror_mode": {
    "name": "ipython",
    "version": 3
   },
   "file_extension": ".py",
   "mimetype": "text/x-python",
   "name": "python",
   "nbconvert_exporter": "python",
   "pygments_lexer": "ipython3",
   "version": "3.10.6"
  }
 },
 "nbformat": 4,
 "nbformat_minor": 5
}
