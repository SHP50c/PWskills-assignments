{
 "cells": [
  {
   "cell_type": "raw",
   "id": "96c52edc-2cd0-4721-bf9a-25db5b3a5570",
   "metadata": {},
   "source": [
    "1.Explain Class and Object with respect to Object-Oriented Programming. Give a suitable example.\n",
    "ans: A class is considered as a blueprint of objects. We can think of the class as a prototype of a bike. It can contain the details of the bike like Hourse power of the engine, model no., manufacturing date, initial torque etc.\n",
    "An object is called instance of class, we can say that different objects of same class may contain different data but same methods(function). for example"
   ]
  },
  {
   "cell_type": "code",
   "execution_count": 7,
   "id": "a06b4ba5-9f52-41cd-91a3-76300b04286d",
   "metadata": {},
   "outputs": [
    {
     "name": "stdin",
     "output_type": "stream",
     "text": [
      " rohan\n"
     ]
    },
    {
     "name": "stdout",
     "output_type": "stream",
     "text": [
      "hello rohan welcome to pwskills\n"
     ]
    }
   ],
   "source": [
    "class pwskills : \n",
    "    def welcome_msg(self):\n",
    "        name=input()\n",
    "        print(\"hello\",name,\"welcome to pwskills\")\n",
    "rohan=pwskills()\n",
    "sagar=pwskills()\n",
    "Preeti=pwskills()\n",
    "rohan.welcome_msg()"
   ]
  },
  {
   "cell_type": "code",
   "execution_count": 13,
   "id": "16c57173-b586-4711-8ec2-61ba5a55531a",
   "metadata": {},
   "outputs": [
    {
     "name": "stdin",
     "output_type": "stream",
     "text": [
      " sagar\n"
     ]
    },
    {
     "name": "stdout",
     "output_type": "stream",
     "text": [
      "hello sagar welcome to pwskills\n"
     ]
    }
   ],
   "source": [
    "sagar.welcome_msg()"
   ]
  },
  {
   "cell_type": "code",
   "execution_count": 14,
   "id": "36757043-cef0-4483-a58d-ac96f5d202c4",
   "metadata": {},
   "outputs": [
    {
     "name": "stdin",
     "output_type": "stream",
     "text": [
      " preeti\n"
     ]
    },
    {
     "name": "stdout",
     "output_type": "stream",
     "text": [
      "hello preeti welcome to pwskills\n"
     ]
    }
   ],
   "source": [
    "Preeti.welcome_msg()"
   ]
  },
  {
   "cell_type": "raw",
   "id": "5ccffa4d-812a-4715-82f7-862f8afd9482",
   "metadata": {},
   "source": [
    "In the above example we create a class with a function welcome_msg() and further on we create objects of that class, now using those objects we can access the atributes or funtion from that class."
   ]
  },
  {
   "cell_type": "raw",
   "id": "225e3dd9-8a95-438b-84ba-27f4734f190a",
   "metadata": {},
   "source": [
    "2.Name the four pillars of OOPs.\n",
    "ans:The Four Pillars of Object-Oriented Programming are\n",
    "    -Abstraction\n",
    "    -Encapsulation\n",
    "    -Inheritance\n",
    "    -Polymorphism"
   ]
  },
  {
   "cell_type": "raw",
   "id": "7b23f1ba-175b-4cb7-846a-f37980080f0a",
   "metadata": {},
   "source": [
    "3.Explain why the __init__() function is used. Give a suitable example.\n",
    "ans:__init__() function is used for intialisation of an object."
   ]
  },
  {
   "cell_type": "code",
   "execution_count": 23,
   "id": "49f0c250-b0fc-4196-bfc1-b9dd4084d2b3",
   "metadata": {},
   "outputs": [],
   "source": [
    "class pwskills1: \n",
    "    def __init__(self,phone_number,email_id,student_id):\n",
    "        self.phone_number=phone_number\n",
    "        self.email_id=email_id\n",
    "        self.student_id=student_id\n",
    "    def return_student_deetials(self): \n",
    "        return self.student_id,self.phone_number,self.email_id\n",
    "sagar=pwskills1(8759366425,\"sagarpatel@hotmail.com\",47825569)"
   ]
  },
  {
   "cell_type": "code",
   "execution_count": 21,
   "id": "8d1789bf-5e4f-4c40-bc22-7d7525733cb3",
   "metadata": {},
   "outputs": [
    {
     "name": "stdout",
     "output_type": "stream",
     "text": [
      "8759366425\n",
      "sagarpatel@hotmail.com\n",
      "785246\n"
     ]
    }
   ],
   "source": [
    "print(sagar.phone_number)\n",
    "print(sagar.email_id)\n",
    "print(sagar.student_id)"
   ]
  },
  {
   "cell_type": "raw",
   "id": "e96bd6a0-94a7-4aa6-8ee2-8e24cace4e50",
   "metadata": {},
   "source": [
    "in the above example we created a class \"pwskills\" with __init__() function later on we created an object \"sagar\" when we created this object by default the __init__() function got called. hence the address of the object was passed to __init__() function, so whenever we pass the argument in an object it gets saved in __init__() funtion. note __init__() function do not return any values hence we created another function to return all the values stored in __init__() function."
   ]
  },
  {
   "cell_type": "raw",
   "id": "7b087cd6-06c3-465c-b585-9642bd79b0c6",
   "metadata": {},
   "source": [
    "4.Why self is used in OOPs?\n",
    "ans:self is used to store the address of the object. using self we can which object's argument do we wish to work with.\n",
    "in the above given example we use self.phone_number=phone_number to assign the user entered values. which later on can be returned by another funtion. so basically using self we can access the instances in different funtions within a class."
   ]
  },
  {
   "cell_type": "raw",
   "id": "e96024d4-8ab4-40e6-9e5a-19eeae1bd982",
   "metadata": {},
   "source": [
    "5.What is inheritance? Give an example for each type of inheritance.\n",
    "ans:Inheritance is the capability of one class to derive or inherit the properties from another class.\n",
    "    There are 3 types of inheritance\n",
    "    -simple inheritance\n",
    "    -multi level inheritance\n",
    "    -multiple inheritance"
   ]
  },
  {
   "cell_type": "code",
   "execution_count": 24,
   "id": "beb12d73-99c8-45e9-904e-8d388912a5e3",
   "metadata": {},
   "outputs": [
    {
     "name": "stdout",
     "output_type": "stream",
     "text": [
      "This function is in parent class.\n",
      "This function is in child class.\n"
     ]
    }
   ],
   "source": [
    "#example of simple inheritance\n",
    "# Base class\n",
    "class Parent:\n",
    "    def func1(self):\n",
    "        print(\"This function is in parent class.\")\n",
    "# Derived class  \n",
    "class Child(Parent):\n",
    "    def func2(self):\n",
    "        print(\"This function is in child class.\")\n",
    "object=Child()\n",
    "object.func1()\n",
    "object.func2()"
   ]
  },
  {
   "cell_type": "code",
   "execution_count": 26,
   "id": "227dff0f-38ae-4f5a-aa78-ccab4e943560",
   "metadata": {},
   "outputs": [
    {
     "name": "stdout",
     "output_type": "stream",
     "text": [
      "This is in grand parent class.\n",
      "This function is in parent class.\n",
      "This function is in child class.\n"
     ]
    }
   ],
   "source": [
    "#example of multi level inheritance\n",
    "# Base class\n",
    "class grandparent:\n",
    "    def func(self):\n",
    "        print(\"This is in grand parent class.\")\n",
    "class Parent(grandparent):\n",
    "    def func1(self):\n",
    "        print(\"This function is in parent class.\")\n",
    "# Derived class  \n",
    "class Child(Parent):\n",
    "    def func2(self):\n",
    "        print(\"This function is in child class.\")\n",
    "object=Child()\n",
    "object.func()\n",
    "object.func1()\n",
    "object.func2()"
   ]
  },
  {
   "cell_type": "code",
   "execution_count": 28,
   "id": "3501cd9d-7b28-4b85-acab-b14d310be47d",
   "metadata": {},
   "outputs": [
    {
     "name": "stdin",
     "output_type": "stream",
     "text": [
      "enter fathers name Harsukhlal\n",
      "enter mothers name Rasila\n"
     ]
    },
    {
     "name": "stdout",
     "output_type": "stream",
     "text": [
      "Father: Harsukhlal\n",
      "Mother: Rasila\n"
     ]
    }
   ],
   "source": [
    "# example of multiple inheritance\n",
    "# Base class1\n",
    "class Mother:\n",
    "    mothername=\"\"\n",
    "    def mother(self):\n",
    "        print(self.mothername)\n",
    "class Father:\n",
    "    fathername=\"\"\n",
    "    def father(self):\n",
    "        print(self.fathername)\n",
    "class Son(Mother,Father):\n",
    "    def parents(self):\n",
    "        print(\"Father:\",self.fathername)\n",
    "        print(\"Mother:\",self.mothername) \n",
    "s1=Son()\n",
    "s1.fathername=input(\"enter fathers name\")\n",
    "s1.mothername=input(\"enter mothers name\")\n",
    "s1.parents()"
   ]
  },
  {
   "cell_type": "code",
   "execution_count": null,
   "id": "abd9d72a-a093-4a2c-b2d3-285efc48d089",
   "metadata": {},
   "outputs": [],
   "source": []
  }
 ],
 "metadata": {
  "kernelspec": {
   "display_name": "Python 3 (ipykernel)",
   "language": "python",
   "name": "python3"
  },
  "language_info": {
   "codemirror_mode": {
    "name": "ipython",
    "version": 3
   },
   "file_extension": ".py",
   "mimetype": "text/x-python",
   "name": "python",
   "nbconvert_exporter": "python",
   "pygments_lexer": "ipython3",
   "version": "3.10.6"
  }
 },
 "nbformat": 4,
 "nbformat_minor": 5
}
