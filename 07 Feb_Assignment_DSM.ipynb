{
 "cells": [
  {
   "cell_type": "raw",
   "id": "5385d1ab-d8a7-43be-8955-707878fcbf73",
   "metadata": {},
   "source": [
    "1.You are writing code for a company. The requirement of the company is that you create a python\n",
    "function that will check whether the password entered by the user is correct or not. The function should\n",
    "take the password as input and return the string “Valid Password” if the entered password follows the\n",
    "below-given password guidelines else it should return “Invalid Password”.\n",
    "Note: 1. The Password should contain at least two uppercase letters and at least two lowercase letters.\n",
    "2. The Password should contain at least a number and three special characters.\n",
    "3. The length of the password should be 10 characters long."
   ]
  },
  {
   "cell_type": "code",
   "execution_count": 1,
   "id": "7eac49eb-c890-4cb7-b297-dc694391a585",
   "metadata": {},
   "outputs": [
    {
     "name": "stdin",
     "output_type": "stream",
     "text": [
      "Enter the password\n",
      "NOTE:-1.The Password should contain at least two uppercase letters and at least two lowercase letters.\n",
      "2.The Password should contain at least a number and three special characters.\n",
      "3.The length of the password should be 10 characters long. ABcd12!@#f\n"
     ]
    },
    {
     "name": "stdout",
     "output_type": "stream",
     "text": [
      "valid password\n"
     ]
    }
   ],
   "source": [
    "pass_word=input(\"\"\"Enter the password\n",
    "NOTE:-1.The Password should contain at least two uppercase letters and at least two lowercase letters.\n",
    "2.The Password should contain at least a number and three special characters.\n",
    "3.The length of the password should be 10 characters long.\"\"\")\n",
    "def check(p):\n",
    "    l=list(p)\n",
    "    cap,low,n,spe,total,j=0,0,0,0,0,0\n",
    "    for i in l:\n",
    "        if ord(i)>=ord(\"0\") and ord(i)<=ord(\"9\"):\n",
    "            n=n+1\n",
    "            #print(\"num\",n,j)\n",
    "        elif ord(i)>=ord(\"A\") and ord(i)<=ord(\"Z\"):\n",
    "            cap=cap+1\n",
    "            #print(\"cap\",cap,j)\n",
    "        elif ord(i)>=ord(\"a\") and ord(i)<=ord(\"z\"):\n",
    "            low=low+1\n",
    "            #print(\"low\",low,j)\n",
    "        else:\n",
    "            spe=spe+1\n",
    "            #print(\"spe\",spe,j)\n",
    "        j=j+1\n",
    "    total=cap+low+n+spe\n",
    "    #print(l)\n",
    "    #print(cap,low,n,spe,total)\n",
    "    if cap>=2 and low>=2 and n>=1 and spe>=3 and total==10:\n",
    "        print(\"valid password\")\n",
    "    else:\n",
    "        print(\"invalid password\")\n",
    "check(pass_word)"
   ]
  },
  {
   "cell_type": "raw",
   "id": "4874d0f2-9fa7-413f-b067-3d4c092eeab0",
   "metadata": {},
   "source": [
    "Q2. Solve the below-given questions using at least one of the following: \n",
    "1. Lambda function\n",
    "2. Filter function\n",
    "3. map function\n",
    "4. List Comprehension\n",
    "- Check if the string starts with a particular letter.\n",
    "- Check if the string is numeric.\n",
    "- Sort a list of tuples having fruit names and their quantity. [(\"mango\",99),(\"orange\",80), (\"grapes\", 1000)]\n",
    "- Find the squares of numbers from 1 to 10.\n",
    "- Find the cube root of numbers from 1 to 10.\n",
    "- Check if a given number is even.\n",
    "- Filter odd numbers from the given list.\n",
    "    [1,2,3,4,5,6,7,8,9,10]\n",
    "- Sort a list of integers into positive and negative integers lists.\n",
    "    [1,2,3,4,5,6,-1,-2,-3,-4,-5,0]"
   ]
  },
  {
   "cell_type": "code",
   "execution_count": 27,
   "id": "b52a9f4f-16e6-4f63-9838-1b2c8a2050bd",
   "metadata": {},
   "outputs": [
    {
     "name": "stdin",
     "output_type": "stream",
     "text": [
      "enter the string: sagar\n",
      "enter the letter: a\n"
     ]
    },
    {
     "name": "stdout",
     "output_type": "stream",
     "text": [
      "no! the string does'nt start with letter a\n"
     ]
    }
   ],
   "source": [
    "#- Check if the string starts with a particular letter.\n",
    "s=input(\"enter the string:\")\n",
    "let=input(\"enter the letter:\")\n",
    "check=lambda l,l1: print(\"yes! the string does start with letter\",let) if l[0]==l1[0] else print(\"no! the string does'nt start with letter\",let)\n",
    "check(s,let)"
   ]
  },
  {
   "cell_type": "code",
   "execution_count": 29,
   "id": "a273d09d-ecaa-4053-aea4-f01660952b3a",
   "metadata": {},
   "outputs": [
    {
     "name": "stdin",
     "output_type": "stream",
     "text": [
      "Enter the string: adsflkfgguefw\n"
     ]
    },
    {
     "name": "stdout",
     "output_type": "stream",
     "text": [
      "no! string is not numeric\n"
     ]
    }
   ],
   "source": [
    "#- Check if the string is numeric.\n",
    "s=input(\"Enter the string:\")\n",
    "check=lambda string: print(\"yes! string is numeric\") if string.isnumeric()==True else print(\"no! string is not numeric\")\n",
    "check(s)"
   ]
  },
  {
   "cell_type": "code",
   "execution_count": 40,
   "id": "ac083aa4-b05b-4f15-83c6-d5cc0514a595",
   "metadata": {},
   "outputs": [
    {
     "name": "stdout",
     "output_type": "stream",
     "text": [
      "sorting based on integer value of fruits [('orange', 80), ('mango', 99), ('grapes', 1000)]\n",
      "Sorting based on name of the fruits [('grapes', 1000), ('mango', 99), ('orange', 80)]\n"
     ]
    }
   ],
   "source": [
    "#- Sort a list of tuples having fruit names and their quantity. [(\"mango\",99),(\"orange\",80), (\"grapes\", 1000)]\n",
    "l=[(\"mango\",99),(\"orange\",80), (\"grapes\", 1000)]\n",
    "l.sort(key=lambda t:t[1])\n",
    "print(\"sorting based on integer value of fruits\",l)\n",
    "l.sort(key=lambda t:t[0])\n",
    "print(\"Sorting based on name of the fruits\",l)"
   ]
  },
  {
   "cell_type": "code",
   "execution_count": 53,
   "id": "1c3bf2fb-4b69-4b46-8266-a05e40a2d32b",
   "metadata": {},
   "outputs": [
    {
     "data": {
      "text/plain": [
       "[1, 4, 9, 16, 25, 36, 49, 64, 81, 100]"
      ]
     },
     "execution_count": 53,
     "metadata": {},
     "output_type": "execute_result"
    }
   ],
   "source": [
    "#- Find the squares of numbers from 1 to 10.\n",
    "l=[1,2,3,4,5,6,7,8,9,10]\n",
    "[i**2 for i in l]"
   ]
  },
  {
   "cell_type": "code",
   "execution_count": 42,
   "id": "d97c4f16-65fe-4f2e-b812-7a5fd35e3f2e",
   "metadata": {},
   "outputs": [
    {
     "data": {
      "text/plain": [
       "[1, 8, 27, 64, 125, 216, 343, 512, 729, 1000]"
      ]
     },
     "execution_count": 42,
     "metadata": {},
     "output_type": "execute_result"
    }
   ],
   "source": [
    "#- Find the cube root of numbers from 1 to 10.\n",
    "l=[1,2,3,4,5,6,7,8,9,10]\n",
    "list(map(lambda x : x**3 , l))"
   ]
  },
  {
   "cell_type": "code",
   "execution_count": 46,
   "id": "8028a40b-7f71-4ec6-881f-1af3c663e7a5",
   "metadata": {},
   "outputs": [
    {
     "name": "stdin",
     "output_type": "stream",
     "text": [
      "enter a number 13\n"
     ]
    },
    {
     "name": "stdout",
     "output_type": "stream",
     "text": [
      "no! number is not even\n"
     ]
    }
   ],
   "source": [
    "#- Check if a given number is even.\n",
    "n=int(input(\"enter a number\"))\n",
    "check=lambda n:print(\"yes! number is even\") if n%2==0 else print(\"no! number is not even\")\n",
    "check(n)"
   ]
  },
  {
   "cell_type": "code",
   "execution_count": 54,
   "id": "81261028-da00-4185-aefc-d350f0a4fdaf",
   "metadata": {},
   "outputs": [
    {
     "name": "stdout",
     "output_type": "stream",
     "text": [
      "given list is [1, 2, 3, 4, 5, 6, 7, 8, 9, 10]\n",
      "odd number in that list are [1, 3, 5, 7, 9]\n"
     ]
    }
   ],
   "source": [
    "#- Filter odd numbers from the given list. [1,2,3,4,5,6,7,8,9,10]\n",
    "l=[1,2,3,4,5,6,7,8,9,10]\n",
    "l1=list(filter(lambda x:x%2!=0,l))\n",
    "print(\"given list is\",l)\n",
    "print(\"odd number in that list are\",l1)"
   ]
  },
  {
   "cell_type": "code",
   "execution_count": 66,
   "id": "f4807d01-3f5b-45dd-bb37-46468eab3486",
   "metadata": {},
   "outputs": [
    {
     "name": "stdout",
     "output_type": "stream",
     "text": [
      "given list is [1, 2, 3, 4, 5, 6, -1, -2, -3, -4, -5, 0]\n",
      "positive numbers in the list are [0, 1, 2, 3, 4, 5, 6]\n",
      "negative numbers in the list are [-5, -4, -3, -2, -1]\n"
     ]
    }
   ],
   "source": [
    "#- Sort a list of integers into positive and negative integers lists. [1,2,3,4,5,6,-1,-2,-3,-4,-5,0]\n",
    "l=[1,2,3,4,5,6,-1,-2,-3,-4,-5,0]\n",
    "l1=list(filter(lambda x:x>=0,l))\n",
    "l1.sort()\n",
    "l2=list(filter(lambda x:x<0,l))\n",
    "l2.sort()\n",
    "print(\"given list is\",l)\n",
    "print(\"positive numbers in the list are\",l1)\n",
    "print(\"negative numbers in the list are\",l2)"
   ]
  },
  {
   "cell_type": "code",
   "execution_count": null,
   "id": "5841218c-a6b9-49dc-9df1-f1046d7308b9",
   "metadata": {},
   "outputs": [],
   "source": []
  },
  {
   "cell_type": "code",
   "execution_count": null,
   "id": "c5aca2d2-3b69-4b54-beca-cef0880d30c3",
   "metadata": {},
   "outputs": [],
   "source": []
  }
 ],
 "metadata": {
  "kernelspec": {
   "display_name": "Python 3 (ipykernel)",
   "language": "python",
   "name": "python3"
  },
  "language_info": {
   "codemirror_mode": {
    "name": "ipython",
    "version": 3
   },
   "file_extension": ".py",
   "mimetype": "text/x-python",
   "name": "python",
   "nbconvert_exporter": "python",
   "pygments_lexer": "ipython3",
   "version": "3.10.6"
  }
 },
 "nbformat": 4,
 "nbformat_minor": 5
}
