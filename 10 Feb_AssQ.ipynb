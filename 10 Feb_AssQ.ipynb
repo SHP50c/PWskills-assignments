{
 "cells": [
  {
   "cell_type": "raw",
   "id": "43d208f5-175c-4627-bc2f-3b7838ec937e",
   "metadata": {},
   "source": [
    "1.Which function is used to open a file? What are the different modes of opening a file? Explain each mode of file opening.\n",
    "ans:open() function is used to open a file. different modes of opening a file are as follows\n",
    "    1:'r'       open for reading (default)\n",
    "    2:'w'       open for writing, truncating the file first\n",
    "    3:'x'       create a new file and open it for writing\n",
    "    4:'a'       open for writing, appending to the end of the file if it exists\n",
    "    5:'b'       binary mode\n",
    "    6:'t'       text mode (default)\n",
    "    7:'+'       open a disk file for updating (reading and writing)\n",
    "    8:'U'       universal newline mode (deprecated)"
   ]
  },
  {
   "cell_type": "raw",
   "id": "529cd431-73d2-4f53-b4f4-b8505ba18096",
   "metadata": {},
   "source": [
    "2.Why close() function is used? Why is it important to close a file?\n",
    "ans:close() function is used to close the file. it is important to close the file to reflect the changes made to the file."
   ]
  },
  {
   "cell_type": "raw",
   "id": "77260117-b99b-440d-b6b9-22819cfecb81",
   "metadata": {},
   "source": [
    "3.Write a python program to create a text file. Write ‘I want to become a Data Scientist’ in that file. Then\n",
    "close the file. Open this file and read the content of the file."
   ]
  },
  {
   "cell_type": "code",
   "execution_count": 3,
   "id": "e348bd39-8673-4532-b3c3-5d5199d282a7",
   "metadata": {},
   "outputs": [
    {
     "data": {
      "text/plain": [
       "'I want to become a Data Scientist'"
      ]
     },
     "execution_count": 3,
     "metadata": {},
     "output_type": "execute_result"
    }
   ],
   "source": [
    "f=open(\"10_feb_ass.txt\",\"w\")\n",
    "f.write(\"I want to become a Data Scientist\")\n",
    "f.close()\n",
    "f=open(\"10_feb_ass.txt\",\"r\")\n",
    "f.read()"
   ]
  },
  {
   "cell_type": "raw",
   "id": "aafa2f3c-9d57-4fda-a850-d3a665b6d9b6",
   "metadata": {},
   "source": [
    "4.Explain the following with python code: read(), readline() and readlines().\n",
    "ans:Read():Returns the read bytes in the form of a string. Reads n bytes; if n is not specified, then reads the entire file.\n",
    "    Readline():Reads a line of the file and returns in the form of a string. For specified n, reads at most n bytes.\n",
    "    readlines():Reads all the lines and returns them as a string element in a list. Readlines ( ) is used to read all the\n",
    "    lines at a single go and then return them as a string element in a list."
   ]
  },
  {
   "cell_type": "raw",
   "id": "63a56bfa-2420-4a80-bfde-7cbea1e887df",
   "metadata": {},
   "source": [
    "5.Explain why with statement is used with open(). What is the advantage of using with statement and open() together?\n",
    "ans:In Python, with statement is used in exception handling to make the code cleaner and much more readable. It simplifies the\n",
    "    management of common resources like file streams. Observe the codes given below as example on how the use of with statement\n",
    "    makes the code cleaner. "
   ]
  },
  {
   "cell_type": "code",
   "execution_count": 5,
   "id": "2a3af84e-62bc-47be-b2dc-cc4bef16cdba",
   "metadata": {},
   "outputs": [
    {
     "data": {
      "text/plain": [
       "'I want to become a Data Scientist'"
      ]
     },
     "execution_count": 5,
     "metadata": {},
     "output_type": "execute_result"
    }
   ],
   "source": [
    "#without using with statement\n",
    "f=open(\"10_feb_ass.txt\",\"w\")\n",
    "f.write(\"I want to become a Data Scientist\")\n",
    "f.close()\n",
    "f=open(\"10_feb_ass.txt\",\"r\")\n",
    "f.read()"
   ]
  },
  {
   "cell_type": "code",
   "execution_count": 13,
   "id": "fdf1d283-ed77-47a9-94b6-4e29d5128052",
   "metadata": {},
   "outputs": [
    {
     "name": "stdout",
     "output_type": "stream",
     "text": [
      "I want to become a Data Scientist\n"
     ]
    }
   ],
   "source": [
    "#with with statement\n",
    "with open(\"10_feb_ass.txt\",\"w\") as f:\n",
    "    f.write(\"I want to become a Data Scientist\")\n",
    "with open(\"10_feb_ass.txt\",\"r\") as f:\n",
    "    print(f.read())"
   ]
  },
  {
   "cell_type": "raw",
   "id": "48c8ad50-eb6c-48d1-a68b-6411bd4211a6",
   "metadata": {},
   "source": [
    "Notice that unlike the first implementations, there is no need to call file.close() when using with statement. The with statement itself ensures proper acquisition and release of resources. An exception during the file.write() call in the first implementation can prevent the file from closing properly which may introduce several bugs in the code, i.e. many changes in files do not go into effect until the file is properly closed. The second approach in the above example takes care of all the exceptions but using the with statement makes the code compact and much more readable. Thus, with statement helps avoiding bugs and leaks by ensuring that a resource is properly released when the code using the resource is completely executed."
   ]
  },
  {
   "cell_type": "raw",
   "id": "f2719a42-9ffc-4625-8e3b-1ad13ff940a7",
   "metadata": {},
   "source": [
    "6.Explain the write() and writelines() functions. Give a suitable example.\n",
    "ans:as the name suggest write() function accept only a single string as an argument. whereas writelines() function accepts list\n",
    "    of strings example is given below"
   ]
  },
  {
   "cell_type": "code",
   "execution_count": 17,
   "id": "d2499d76-7ce7-4680-adb8-cf29e22512d7",
   "metadata": {},
   "outputs": [
    {
     "name": "stdout",
     "output_type": "stream",
     "text": [
      "This\n",
      "is\n",
      "myfile\n"
     ]
    }
   ],
   "source": [
    "#writelines\n",
    "newline = '\\n'\n",
    "line1 = \"This\"\n",
    "line2 = \"is\"\n",
    "line3 = \"myfile\"\n",
    "lines = line1,newline, line2, newline, line3\n",
    "with open('myfile.txt', 'w') as file:\n",
    "    file.writelines(lines)\n",
    "with open('myfile.txt', 'r') as file:\n",
    "    print(file.read())"
   ]
  },
  {
   "cell_type": "code",
   "execution_count": 18,
   "id": "877eca46-57c3-4a4b-93ee-b4034dc171b5",
   "metadata": {},
   "outputs": [
    {
     "ename": "TypeError",
     "evalue": "write() argument must be str, not tuple",
     "output_type": "error",
     "traceback": [
      "\u001b[0;31m---------------------------------------------------------------------------\u001b[0m",
      "\u001b[0;31mTypeError\u001b[0m                                 Traceback (most recent call last)",
      "Cell \u001b[0;32mIn [18], line 8\u001b[0m\n\u001b[1;32m      6\u001b[0m lines \u001b[38;5;241m=\u001b[39m line1,newline, line2, newline, line3\n\u001b[1;32m      7\u001b[0m \u001b[38;5;28;01mwith\u001b[39;00m \u001b[38;5;28mopen\u001b[39m(\u001b[38;5;124m'\u001b[39m\u001b[38;5;124mmyfile.txt\u001b[39m\u001b[38;5;124m'\u001b[39m, \u001b[38;5;124m'\u001b[39m\u001b[38;5;124mw\u001b[39m\u001b[38;5;124m'\u001b[39m) \u001b[38;5;28;01mas\u001b[39;00m file:\n\u001b[0;32m----> 8\u001b[0m     \u001b[43mfile\u001b[49m\u001b[38;5;241;43m.\u001b[39;49m\u001b[43mwrite\u001b[49m\u001b[43m(\u001b[49m\u001b[43mlines\u001b[49m\u001b[43m)\u001b[49m\u001b[38;5;66;03m#will give an error since lines contain list of strings and write can accept only one string\u001b[39;00m\n\u001b[1;32m      9\u001b[0m \u001b[38;5;28;01mwith\u001b[39;00m \u001b[38;5;28mopen\u001b[39m(\u001b[38;5;124m'\u001b[39m\u001b[38;5;124mmyfile.txt\u001b[39m\u001b[38;5;124m'\u001b[39m, \u001b[38;5;124m'\u001b[39m\u001b[38;5;124mr\u001b[39m\u001b[38;5;124m'\u001b[39m) \u001b[38;5;28;01mas\u001b[39;00m file:\n\u001b[1;32m     10\u001b[0m     \u001b[38;5;28mprint\u001b[39m(file\u001b[38;5;241m.\u001b[39mread())\n",
      "\u001b[0;31mTypeError\u001b[0m: write() argument must be str, not tuple"
     ]
    }
   ],
   "source": [
    "#write\n",
    "newline = '\\n'\n",
    "line1 = \"This\"\n",
    "line2 = \"is\"\n",
    "line3 = \"myfile\"\n",
    "lines = line1,newline, line2, newline, line3\n",
    "with open('myfile.txt', 'w') as file:\n",
    "    file.write(lines)#will give an error since lines contain list of strings and write can accept only one string\n",
    "with open('myfile.txt', 'r') as file:\n",
    "    print(file.read())"
   ]
  },
  {
   "cell_type": "code",
   "execution_count": 20,
   "id": "6dfbfab5-422c-4c09-ba5e-5da17c6c690e",
   "metadata": {},
   "outputs": [
    {
     "name": "stdout",
     "output_type": "stream",
     "text": [
      "This\n",
      "is\n",
      "myfile\n"
     ]
    }
   ],
   "source": [
    "#write\n",
    "newline = '\\n'\n",
    "line1 = \"This\"\n",
    "line2 = \"is\"\n",
    "line3 = \"myfile\"\n",
    "lines = line1+newline+line2+newline+line3\n",
    "with open('myfile.txt', 'w') as file:\n",
    "    file.write(lines)#here we concaneted all the strings in lines\n",
    "with open('myfile.txt', 'r') as file:\n",
    "    print(file.read())"
   ]
  },
  {
   "cell_type": "code",
   "execution_count": null,
   "id": "be8dbbf8-cc16-447d-8095-407bfcd821a2",
   "metadata": {},
   "outputs": [],
   "source": []
  }
 ],
 "metadata": {
  "kernelspec": {
   "display_name": "Python 3 (ipykernel)",
   "language": "python",
   "name": "python3"
  },
  "language_info": {
   "codemirror_mode": {
    "name": "ipython",
    "version": 3
   },
   "file_extension": ".py",
   "mimetype": "text/x-python",
   "name": "python",
   "nbconvert_exporter": "python",
   "pygments_lexer": "ipython3",
   "version": "3.10.6"
  }
 },
 "nbformat": 4,
 "nbformat_minor": 5
}
