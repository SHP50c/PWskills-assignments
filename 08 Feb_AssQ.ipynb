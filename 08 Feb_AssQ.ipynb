{
 "cells": [
  {
   "cell_type": "raw",
   "id": "b485d7c6-3f71-4f30-aaa6-0908e69953ce",
   "metadata": {},
   "source": [
    "1.What is Abstraction in OOPS? Explain with an example.\n",
    "ans:Abstraction in Python is the process of hiding the real implementation of an application from the user and emphasizing only on usage of it. for example refer the code given below"
   ]
  },
  {
   "cell_type": "code",
   "execution_count": 2,
   "id": "38aac330-2621-4cde-b668-31753716eb18",
   "metadata": {},
   "outputs": [
    {
     "name": "stdout",
     "output_type": "stream",
     "text": [
      "The mileage is 30kmph\n",
      "The mileage is 27kmph \n",
      "The mileage is 25kmph \n",
      "The mileage is 24kmph \n"
     ]
    },
    {
     "ename": "NameError",
     "evalue": "name 'car' is not defined",
     "output_type": "error",
     "traceback": [
      "\u001b[0;31m---------------------------------------------------------------------------\u001b[0m",
      "\u001b[0;31mNameError\u001b[0m                                 Traceback (most recent call last)",
      "Cell \u001b[0;32mIn [2], line 31\u001b[0m\n\u001b[1;32m     28\u001b[0m d \u001b[38;5;241m=\u001b[39m Duster()   \n\u001b[1;32m     29\u001b[0m d\u001b[38;5;241m.\u001b[39mmileage()\n\u001b[0;32m---> 31\u001b[0m c\u001b[38;5;241m=\u001b[39m\u001b[43mcar\u001b[49m()\n\u001b[1;32m     32\u001b[0m c\u001b[38;5;241m.\u001b[39mmileage()\n",
      "\u001b[0;31mNameError\u001b[0m: name 'car' is not defined"
     ]
    }
   ],
   "source": [
    "# abstract base class work   \n",
    "from abc import ABC, abstractmethod   \n",
    "class Car(ABC):   \n",
    "    def mileage(self):   \n",
    "        pass  \n",
    "class Tesla(Car):   \n",
    "    def mileage(self):   \n",
    "        print(\"The mileage is 30kmph\")   \n",
    "class Suzuki(Car):   \n",
    "    def mileage(self):   \n",
    "        print(\"The mileage is 25kmph \")   \n",
    "class Duster(Car):   \n",
    "     def mileage(self):   \n",
    "        print(\"The mileage is 24kmph \")   \n",
    "class Renault(Car):   \n",
    "    def mileage(self):   \n",
    "        print(\"The mileage is 27kmph \")\n",
    "        \n",
    "t= Tesla ()   \n",
    "t.mileage()   \n",
    "  \n",
    "r = Renault()   \n",
    "r.mileage()   \n",
    "  \n",
    "s = Suzuki()   \n",
    "s.mileage()   \n",
    "\n",
    "d = Duster()   \n",
    "d.mileage()\n",
    "\n",
    "c=car()\n",
    "c.mileage()"
   ]
  },
  {
   "cell_type": "raw",
   "id": "0eaee087-96f7-47f9-bd14-c36f13f4cf9d",
   "metadata": {},
   "source": [
    "In the above code, we have imported the abc module to create the abstract base class. We created the Car class that inherited the ABC class and defined an abstract method named mileage(). We have then inherited the base class from the three different subclasses and implemented the abstract method differently. We created the objects to call the abstract method. As you can notice that we are not able to create the object of the base class since it has been abstracted."
   ]
  },
  {
   "cell_type": "raw",
   "id": "3a5cd674-5586-464a-bfd6-deea2fec3e02",
   "metadata": {},
   "source": [
    "2.Differentiate between Abstraction and Encapsulation. Explain with an example.\n",
    "ans:Abstraction is hiding the details and implementation of the code.\n",
    "    Encapsulation is hiding the data and controlling the visibility of the code.\n",
    "    example is shown below"
   ]
  },
  {
   "cell_type": "code",
   "execution_count": 3,
   "id": "b1c8d559-1744-4fe2-a9bb-5b4a6f5ed5d9",
   "metadata": {},
   "outputs": [
    {
     "name": "stdout",
     "output_type": "stream",
     "text": [
      "The mileage is 30kmph\n",
      "The mileage is 27kmph \n",
      "The mileage is 25kmph \n",
      "The mileage is 24kmph \n"
     ]
    },
    {
     "ename": "NameError",
     "evalue": "name 'car' is not defined",
     "output_type": "error",
     "traceback": [
      "\u001b[0;31m---------------------------------------------------------------------------\u001b[0m",
      "\u001b[0;31mNameError\u001b[0m                                 Traceback (most recent call last)",
      "Cell \u001b[0;32mIn [3], line 31\u001b[0m\n\u001b[1;32m     28\u001b[0m d \u001b[38;5;241m=\u001b[39m Duster()   \n\u001b[1;32m     29\u001b[0m d\u001b[38;5;241m.\u001b[39mmileage()\n\u001b[0;32m---> 31\u001b[0m c\u001b[38;5;241m=\u001b[39m\u001b[43mcar\u001b[49m()\n\u001b[1;32m     32\u001b[0m c\u001b[38;5;241m.\u001b[39mmileage()\n",
      "\u001b[0;31mNameError\u001b[0m: name 'car' is not defined"
     ]
    }
   ],
   "source": [
    "# abstract base class work   \n",
    "from abc import ABC, abstractmethod   \n",
    "class Car(ABC):\n",
    "    @abstractmethod\n",
    "    def mileage(self):   \n",
    "        pass  \n",
    "class Tesla(Car):   \n",
    "    def mileage(self):   \n",
    "        print(\"The mileage is 30kmph\")   \n",
    "class Suzuki(Car):   \n",
    "    def mileage(self):   \n",
    "        print(\"The mileage is 25kmph \")   \n",
    "class Duster(Car):   \n",
    "     def mileage(self):   \n",
    "        print(\"The mileage is 24kmph \")   \n",
    "class Renault(Car):   \n",
    "    def mileage(self):   \n",
    "        print(\"The mileage is 27kmph \")\n",
    "        \n",
    "t= Tesla ()   \n",
    "t.mileage()   \n",
    "  \n",
    "r = Renault()   \n",
    "r.mileage()   \n",
    "  \n",
    "s = Suzuki()   \n",
    "s.mileage()   \n",
    "\n",
    "d = Duster()   \n",
    "d.mileage()\n",
    "\n",
    "c=car()\n",
    "c.mileage()"
   ]
  },
  {
   "cell_type": "raw",
   "id": "c23bf76d-b40c-436b-8e6f-10d08f50237b",
   "metadata": {},
   "source": [
    "In the above example class car is abstract hence we are not able to access its function."
   ]
  },
  {
   "cell_type": "code",
   "execution_count": 5,
   "id": "96f8bc2e-acbd-4449-835a-5e60fede495a",
   "metadata": {},
   "outputs": [
    {
     "ename": "AttributeError",
     "evalue": "'bank_acc' object has no attribute 'balance'",
     "output_type": "error",
     "traceback": [
      "\u001b[0;31m---------------------------------------------------------------------------\u001b[0m",
      "\u001b[0;31mAttributeError\u001b[0m                            Traceback (most recent call last)",
      "Cell \u001b[0;32mIn [5], line 16\u001b[0m\n\u001b[1;32m     14\u001b[0m         \u001b[38;5;28;01mreturn\u001b[39;00m \u001b[38;5;28mself\u001b[39m\u001b[38;5;241m.\u001b[39m__balance\n\u001b[1;32m     15\u001b[0m sagar\u001b[38;5;241m=\u001b[39mbank_acc(\u001b[38;5;241m1000\u001b[39m)\n\u001b[0;32m---> 16\u001b[0m \u001b[43msagar\u001b[49m\u001b[38;5;241;43m.\u001b[39;49m\u001b[43mbalance\u001b[49m\n",
      "\u001b[0;31mAttributeError\u001b[0m: 'bank_acc' object has no attribute 'balance'"
     ]
    }
   ],
   "source": [
    "#encapsulation\n",
    "class bank_acc:\n",
    "    def __init__(self,balance):\n",
    "        self.__balance=balance\n",
    "    def deposite(self,amount):\n",
    "        self.__balance=self.__balance+amount\n",
    "    def withdraw(self,amount):\n",
    "        if self.__balance>=amount:\n",
    "            self.__balance=self.__balance-amount\n",
    "            return self.__balance\n",
    "        else:\n",
    "            return False\n",
    "    def get_balance(self):\n",
    "        return self.__balance\n",
    "sagar=bank_acc(1000)\n",
    "sagar.balance"
   ]
  },
  {
   "cell_type": "code",
   "execution_count": 6,
   "id": "5ced572a-49c5-457d-8237-d8952ee2d030",
   "metadata": {},
   "outputs": [
    {
     "data": {
      "text/plain": [
       "1000"
      ]
     },
     "execution_count": 6,
     "metadata": {},
     "output_type": "execute_result"
    }
   ],
   "source": [
    "sagar.get_balance()"
   ]
  },
  {
   "cell_type": "code",
   "execution_count": 9,
   "id": "2a465753-02bd-403b-989e-8482e7e01397",
   "metadata": {},
   "outputs": [],
   "source": [
    "sagar._bank_acc__balance=2000"
   ]
  },
  {
   "cell_type": "code",
   "execution_count": 10,
   "id": "0a20cf3e-0b1f-4dc6-bff3-6ba6e0d8a00b",
   "metadata": {},
   "outputs": [
    {
     "data": {
      "text/plain": [
       "2000"
      ]
     },
     "execution_count": 10,
     "metadata": {},
     "output_type": "execute_result"
    }
   ],
   "source": [
    "sagar.get_balance()"
   ]
  },
  {
   "cell_type": "raw",
   "id": "e196b79f-9811-4aa9-941d-6635e16b208f",
   "metadata": {},
   "source": [
    "in the above example we have encapsulated the data or we have hidden the data of balance but we can get to access or to read the data indirectly with the help of a funtion and also modifie the data with the help of function but not directly. another way to modify the encapsulated variablr is by using this statement \"sagar._bank_acc__balance=2000\""
   ]
  },
  {
   "cell_type": "raw",
   "id": "0d6b4e79-dc4f-441c-9a91-d15f039c11e4",
   "metadata": {},
   "source": [
    "3.What is abc module in python? Why is it used?\n",
    "ans:The 'abc' module in Python library provides the infrastructure for defining custom abstract base classes. 'abc' works by marking methods of the base class as abstract. This is done by @absttractmethod"
   ]
  },
  {
   "cell_type": "raw",
   "id": "a5e46d3e-31da-418c-8992-b213eb0a0ec5",
   "metadata": {},
   "source": [
    "4.How can we achieve data abstraction?\n",
    "ans:Data Abstraction in Python can be achieved through creating abstract classes and inheriting them later.\n",
    "    The classes that cannot be instantiated. This means that we cannot create objects of an abstract class and these are\n",
    "    only meant to be inherited. Then an object of the derived class is used to access the features of the base class. These\n",
    "    are specifically defined to lay a foundation of other classes that exhibit common behavior or characteristics. example\n",
    "    is shown below"
   ]
  },
  {
   "cell_type": "code",
   "execution_count": 14,
   "id": "8aedf65c-4904-435c-b259-8cda372f82ab",
   "metadata": {},
   "outputs": [
    {
     "name": "stdout",
     "output_type": "stream",
     "text": [
      "In circle.draw\n"
     ]
    }
   ],
   "source": [
    "from abc import ABC, abstractmethod\n",
    "class Shape(ABC):\n",
    "    @abstractmethod\n",
    "    def draw(self):\n",
    "        pass\n",
    "class Rectangle(Shape):\n",
    "    def draw(self):\n",
    "        print(\"In Rectangle.draw\")\n",
    "class Circle(Shape):\n",
    "    def draw(self):\n",
    "        print(\"In circle.draw\")\n",
    "c=Circle()\n",
    "c.draw()"
   ]
  },
  {
   "cell_type": "raw",
   "id": "98a4ff97-c8d9-4b77-a31e-a5eafff90aae",
   "metadata": {},
   "source": [
    "5.Can we create an instance of an abstract class? Explain your answer.\n",
    "ans:Abstract classes are not complete, as they may have some methods that are not defined. So we cannot create an instance\n",
    "    or object of an abstract class in Python. example is given below"
   ]
  },
  {
   "cell_type": "code",
   "execution_count": 15,
   "id": "ba51419c-d76e-4aba-b771-cfb06eab9b28",
   "metadata": {},
   "outputs": [
    {
     "name": "stdout",
     "output_type": "stream",
     "text": [
      "In circle.draw\n"
     ]
    },
    {
     "ename": "TypeError",
     "evalue": "Can't instantiate abstract class Shape with abstract method draw",
     "output_type": "error",
     "traceback": [
      "\u001b[0;31m---------------------------------------------------------------------------\u001b[0m",
      "\u001b[0;31mTypeError\u001b[0m                                 Traceback (most recent call last)",
      "Cell \u001b[0;32mIn [15], line 14\u001b[0m\n\u001b[1;32m     12\u001b[0m c\u001b[38;5;241m=\u001b[39mCircle()\n\u001b[1;32m     13\u001b[0m c\u001b[38;5;241m.\u001b[39mdraw()\n\u001b[0;32m---> 14\u001b[0m s\u001b[38;5;241m=\u001b[39m\u001b[43mShape\u001b[49m\u001b[43m(\u001b[49m\u001b[43m)\u001b[49m\n\u001b[1;32m     15\u001b[0m s\u001b[38;5;241m.\u001b[39mdraw()\n",
      "\u001b[0;31mTypeError\u001b[0m: Can't instantiate abstract class Shape with abstract method draw"
     ]
    }
   ],
   "source": [
    "from abc import ABC, abstractmethod\n",
    "class Shape(ABC):\n",
    "    @abstractmethod\n",
    "    def draw(self):\n",
    "        pass\n",
    "class Rectangle(Shape):\n",
    "    def draw(self):\n",
    "        print(\"In Rectangle.draw\")\n",
    "class Circle(Shape):\n",
    "    def draw(self):\n",
    "        print(\"In circle.draw\")\n",
    "c=Circle()\n",
    "c.draw()\n",
    "s=Shape()\n",
    "s.draw()"
   ]
  },
  {
   "cell_type": "code",
   "execution_count": null,
   "id": "524974a8-8fd2-4027-a56a-54004d28bd2f",
   "metadata": {},
   "outputs": [],
   "source": []
  }
 ],
 "metadata": {
  "kernelspec": {
   "display_name": "Python 3 (ipykernel)",
   "language": "python",
   "name": "python3"
  },
  "language_info": {
   "codemirror_mode": {
    "name": "ipython",
    "version": 3
   },
   "file_extension": ".py",
   "mimetype": "text/x-python",
   "name": "python",
   "nbconvert_exporter": "python",
   "pygments_lexer": "ipython3",
   "version": "3.10.6"
  }
 },
 "nbformat": 4,
 "nbformat_minor": 5
}
