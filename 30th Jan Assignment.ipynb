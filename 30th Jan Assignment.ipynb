{
 "cells": [
  {
   "cell_type": "raw",
   "id": "434124c1-888e-4d9f-a259-916082b69bf1",
   "metadata": {},
   "source": [
    "1. Write a program to accept percentage from the user and display the grade according to the following criteria.\n",
    "    marks>90 grade A, marks>80 and <=90 grade B, marks>=60 and <=80 grade C, marks<60 grade D"
   ]
  },
  {
   "cell_type": "code",
   "execution_count": 7,
   "id": "0d72bc2d-bf6d-4706-adf7-eb088d5f52a6",
   "metadata": {},
   "outputs": [
    {
     "name": "stdin",
     "output_type": "stream",
     "text": [
      "please enter the marks  93\n"
     ]
    },
    {
     "name": "stdout",
     "output_type": "stream",
     "text": [
      "Excelent you have achieved grade A\n"
     ]
    }
   ],
   "source": [
    "marks=int(input(\"please enter the marks \"))\n",
    "if marks>90:\n",
    "    print(\"Excelent you have achieved grade A\")\n",
    "elif marks>80 and marks<=90:\n",
    "    print(\"congratulations you have achieved grade B\")\n",
    "elif marks>=60 and marks<=80:\n",
    "    print(\"Good you have achieved grade C\")\n",
    "elif marks<60:\n",
    "    print(\"You have achieved grade D, no worries do well next time :-)\")"
   ]
  },
  {
   "cell_type": "raw",
   "id": "9198e9ee-3d61-47c6-ad4f-ce17a4a482cf",
   "metadata": {},
   "source": [
    "2. WAP to accept the cost price of the bike and display the road tax to paid according to the following criteria.\n",
    "    cost price >100000 15% tax, cost price >50000 and <=100000 10% tax, cost price <=50000 5% tax"
   ]
  },
  {
   "cell_type": "code",
   "execution_count": 14,
   "id": "0578f6d2-314c-4eb2-8fea-15efe3e2d409",
   "metadata": {},
   "outputs": [
    {
     "name": "stdin",
     "output_type": "stream",
     "text": [
      "please enter the price of the bike 1135567\n"
     ]
    },
    {
     "name": "stdout",
     "output_type": "stream",
     "text": [
      "your bikes cost is Rs. 1135567 hence you'll have to pay 15% as road tax i.e. Rs. 170335.05\n"
     ]
    }
   ],
   "source": [
    "cost_price=int(input(\"please enter the price of the bike\"))\n",
    "if cost_price>100000:\n",
    "    road_tax=cost_price*0.15\n",
    "    print(\"your bikes cost is Rs.\",cost_price,\"hence you'll have to pay 15% as road tax i.e. Rs.\",road_tax)\n",
    "elif cost_price>50000 and cost_price<=100000:\n",
    "        road_tax=cost_price*0.10\n",
    "        print(\"your bikes cost is Rs.\",cost_price,\"hence you'll have to pay 10% as road tax i.e. Rs.\",road_tax)\n",
    "elif cost_price<=50000:\n",
    "        road_tax=cost_price*0.05\n",
    "        print(\"your bikes cost is Rs.\",cost_price,\"hence you'll have to pay 5% as road tax i.e. Rs.\",road_tax)  "
   ]
  },
  {
   "cell_type": "raw",
   "id": "55fb46e6-3b86-45af-b897-c3743b43d7f8",
   "metadata": {},
   "source": [
    "3.Accept any city from the user and display the monument of that city.\n",
    "delhi-red fort, agra-taj mahel, jaipur-jal mahel"
   ]
  },
  {
   "cell_type": "code",
   "execution_count": 13,
   "id": "4037a6c6-fc61-4750-bc5c-554925d6eb74",
   "metadata": {},
   "outputs": [
    {
     "name": "stdin",
     "output_type": "stream",
     "text": [
      "Enter the name of the city from this list Delhi, Agra, Jaipur Delhi\n"
     ]
    },
    {
     "name": "stdout",
     "output_type": "stream",
     "text": [
      "City you selected is Delhi monument of that city is Red fort\n"
     ]
    }
   ],
   "source": [
    "city_monument={\"Delhi\":\"Red fort\",\"Agra\":\"Taj mahel\",\"Jaipur\":\"Jal mahel\"}\n",
    "city=input(\"Enter the name of the city from this list Delhi, Agra, Jaipur\")\n",
    "for i in city_monument.keys():\n",
    "    if i==city:\n",
    "        print(\"City you selected is\",i,\"monument of that city is\",city_monument[i])\n"
   ]
  },
  {
   "cell_type": "raw",
   "id": "b29884b9-05e5-46fb-902d-0b8fb8d4f983",
   "metadata": {},
   "source": [
    "4. Check how many times the number can be divide by 3 before it is less then 10."
   ]
  },
  {
   "cell_type": "code",
   "execution_count": 2,
   "id": "5a0fab99-29de-4dc8-854c-c1bdb324c7ef",
   "metadata": {},
   "outputs": [
    {
     "name": "stdin",
     "output_type": "stream",
     "text": [
      "please enter the number 300\n"
     ]
    },
    {
     "name": "stdout",
     "output_type": "stream",
     "text": [
      "number you entered is 300 and it can get divided by 3 for 4 times befor it is less then or equal to 10\n"
     ]
    }
   ],
   "source": [
    "n=int(input(\"please enter the number\"))\n",
    "m=n\n",
    "i=0\n",
    "while m>10:\n",
    "    a=m/3\n",
    "    m=a\n",
    "    i=i+1\n",
    "print(\"number you entered is\",n,\"and it can get divided by 3 for\",i,\"times befor it is less then or equal to 10\")"
   ]
  },
  {
   "cell_type": "raw",
   "id": "12d39a7d-34f8-4f7a-8678-b03451616ccb",
   "metadata": {},
   "source": [
    "5. Why and when to use while loop in python give a detailed discription with an example.\n",
    "ans: While loop falls under the category of indefinite iteration. Indefinite iteration means that the number of times the\n",
    "     loop is executed isn’t specified explicitly in advance. so basically we can say while true and keep on executing a\n",
    "     block of code n number of times untill a condition is checked and we break the loop\n",
    "     for example"
   ]
  },
  {
   "cell_type": "code",
   "execution_count": 3,
   "id": "e7e29db9-7489-4a1e-af2d-2276912a12a1",
   "metadata": {},
   "outputs": [
    {
     "name": "stdout",
     "output_type": "stream",
     "text": [
      "1\n",
      "2\n",
      "3\n",
      "loop got ended\n"
     ]
    }
   ],
   "source": [
    "n=5\n",
    "i=1\n",
    "while True:\n",
    "    print(i)\n",
    "    if i==3:\n",
    "        break\n",
    "    i=i+1\n",
    "print(\"loop got ended\")"
   ]
  },
  {
   "cell_type": "raw",
   "id": "76458122-b743-47ab-96e4-e0eaa70c4261",
   "metadata": {},
   "source": [
    "In the above code we see that the while loop executes as long as it is true untill it is interepted by a condition in the above case it is i==3 as sson as i is incremented to the value of 3 break statement is executed and the loop will break and it'll print loop got ended."
   ]
  },
  {
   "cell_type": "raw",
   "id": "6242358b-43c6-4090-a1f9-021224d7be50",
   "metadata": {},
   "source": [
    "6. Use nested while loop to print different pattern."
   ]
  },
  {
   "cell_type": "code",
   "execution_count": 20,
   "id": "14d30d6b-06cb-405e-bb52-1089a341a29f",
   "metadata": {},
   "outputs": [
    {
     "name": "stdin",
     "output_type": "stream",
     "text": [
      "Enter number of steps you want in your pyramid: 5\n"
     ]
    },
    {
     "name": "stdout",
     "output_type": "stream",
     "text": [
      "* \n",
      "* * \n",
      "* * * \n",
      "* * * * \n",
      "* * * * * \n"
     ]
    }
   ],
   "source": [
    "n=int(input(\"Enter number of steps you want in your pyramid:\")) \n",
    "i=1\n",
    "while i<=n:\n",
    "    j=1\n",
    "    while j<=i:\n",
    "        print(\"*\",end=\" \")\n",
    "        j=j+1\n",
    "    print(\"\")\n",
    "    i=i+1"
   ]
  },
  {
   "cell_type": "code",
   "execution_count": 17,
   "id": "c930447d-ded3-4f9b-8012-25a609ccdbe2",
   "metadata": {},
   "outputs": [
    {
     "name": "stdin",
     "output_type": "stream",
     "text": [
      "Enter number of steps you want in your pyramid: 5\n"
     ]
    },
    {
     "name": "stdout",
     "output_type": "stream",
     "text": [
      "1 \n",
      "2 2 \n",
      "3 3 3 \n",
      "4 4 4 4 \n",
      "5 5 5 5 5 \n"
     ]
    }
   ],
   "source": [
    "n=int(input(\"Enter number of steps you want in your pyramid:\")) \n",
    "i=0\n",
    "while i<=n:\n",
    "    j=0\n",
    "    while j<=i:\n",
    "        print(i,end=\" \")\n",
    "        j=j+1\n",
    "    print(\"\")\n",
    "    i=i+1"
   ]
  },
  {
   "cell_type": "code",
   "execution_count": 22,
   "id": "7b16af9d-1b20-4847-863b-f8649ab1313f",
   "metadata": {},
   "outputs": [
    {
     "name": "stdin",
     "output_type": "stream",
     "text": [
      "Enter number of steps you want in your pyramid: 5\n"
     ]
    },
    {
     "name": "stdout",
     "output_type": "stream",
     "text": [
      "1 \n",
      "1 2 \n",
      "1 2 3 \n",
      "1 2 3 4 \n",
      "1 2 3 4 5 \n"
     ]
    }
   ],
   "source": [
    "n=int(input(\"Enter number of steps you want in your pyramid:\")) \n",
    "i=1\n",
    "while i<=n:\n",
    "    j=1\n",
    "    while j<=i:\n",
    "        print(j,end=\" \")\n",
    "        j=j+1\n",
    "    print(\"\")\n",
    "    i=i+1"
   ]
  },
  {
   "cell_type": "code",
   "execution_count": 23,
   "id": "89714040-eb2d-49ac-884b-d807c5ae6a5b",
   "metadata": {},
   "outputs": [
    {
     "name": "stdin",
     "output_type": "stream",
     "text": [
      "Enter number of steps you want in your pyramid: 5\n"
     ]
    },
    {
     "name": "stdout",
     "output_type": "stream",
     "text": [
      "5 4 3 2 1 \n",
      "5 4 3 2 \n",
      "5 4 3 \n",
      "5 4 \n",
      "5 \n"
     ]
    }
   ],
   "source": [
    "n=int(input(\"Enter number of steps you want in your pyramid:\")) \n",
    "i=1\n",
    "while i<=n:\n",
    "    j=n\n",
    "    while j>=i:\n",
    "        print(j,end=\" \")\n",
    "        j=j-1\n",
    "    print(\"\")\n",
    "    i=i+1"
   ]
  },
  {
   "cell_type": "raw",
   "id": "a7005bd5-a55c-46fa-8ff2-211e727e41af",
   "metadata": {},
   "source": [
    "7.Reverse a while loop to print numbers from 10-1."
   ]
  },
  {
   "cell_type": "code",
   "execution_count": 24,
   "id": "64a1961d-803a-48c3-8578-207e7c03f24e",
   "metadata": {},
   "outputs": [
    {
     "name": "stdin",
     "output_type": "stream",
     "text": [
      "Enter number of steps you want in your pyramid: 10\n"
     ]
    },
    {
     "name": "stdout",
     "output_type": "stream",
     "text": [
      "10 9 8 7 6 5 4 3 2 1 "
     ]
    }
   ],
   "source": [
    "n=int(input(\"Enter number of steps you want in your pyramid:\")) \n",
    "while True:\n",
    "    if n==0:\n",
    "        break\n",
    "    print(n,end=\" \")\n",
    "    n=n-1"
   ]
  },
  {
   "cell_type": "raw",
   "id": "217882b6-fb73-4082-a495-b8ef5efb9807",
   "metadata": {},
   "source": [
    "8.Reverse a while loop to print numbers from 10-1."
   ]
  },
  {
   "cell_type": "code",
   "execution_count": 25,
   "id": "f752718b-796b-43dd-9852-8691c0e37968",
   "metadata": {},
   "outputs": [
    {
     "name": "stdin",
     "output_type": "stream",
     "text": [
      "Enter number of steps you want in your pyramid: 10\n"
     ]
    },
    {
     "name": "stdout",
     "output_type": "stream",
     "text": [
      "10 9 8 7 6 5 4 3 2 1 "
     ]
    }
   ],
   "source": [
    "n=int(input(\"Enter number of steps you want in your pyramid:\")) \n",
    "while True:\n",
    "    if n==0:\n",
    "        break\n",
    "    print(n,end=\" \")\n",
    "    n=n-1"
   ]
  },
  {
   "cell_type": "code",
   "execution_count": null,
   "id": "5f92d0e3-c746-46a0-91ac-33b188275732",
   "metadata": {},
   "outputs": [],
   "source": []
  }
 ],
 "metadata": {
  "kernelspec": {
   "display_name": "Python 3 (ipykernel)",
   "language": "python",
   "name": "python3"
  },
  "language_info": {
   "codemirror_mode": {
    "name": "ipython",
    "version": 3
   },
   "file_extension": ".py",
   "mimetype": "text/x-python",
   "name": "python",
   "nbconvert_exporter": "python",
   "pygments_lexer": "ipython3",
   "version": "3.10.6"
  }
 },
 "nbformat": 4,
 "nbformat_minor": 5
}
