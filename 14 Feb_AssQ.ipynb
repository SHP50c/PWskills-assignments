{
 "cells": [
  {
   "cell_type": "raw",
   "id": "ce5ed0d8-1e13-43d3-8ab9-db7b27f425f1",
   "metadata": {},
   "source": [
    "1.what is multithreading in python? why is it used? Name the module used to handle threads in python.\n",
    "ans:Multithreading is a threading technique in Python programming to run multiple threads concurrently by rapidly switching\n",
    "    between thread. \n",
    "    Multithreading is used because it perform multiple tasks simultaneously, which increases performance, speed\n",
    "    and improves the rendering of the application.\n",
    "    Threading module is used to handel threads in python."
   ]
  },
  {
   "cell_type": "raw",
   "id": "557d9988-7f76-451b-a341-4663d88f87fa",
   "metadata": {},
   "source": [
    "2.why threading module used? write the use of the following functions\n",
    "    -activeCount()\n",
    "    -currentThread()\n",
    "    -enumerate()\n",
    "ans:Threading module is used to handel threads in python.\n",
    "    -activeCount()\n",
    "    this function is to count currently active or running threads.\n",
    "    -currentThread()\n",
    "    It is used to return the object of the current active thread.\n",
    "    -enumerate()\n",
    "    The enumerate() function adds counter to an iterable and returns it."
   ]
  },
  {
   "cell_type": "raw",
   "id": "4ebea6de-8d15-4aec-b7f6-24ee14cf842d",
   "metadata": {},
   "source": [
    "3.Explain the following functions:\n",
    "    -run()\n",
    "    -start()\n",
    "    -join()\n",
    "    -isAlive()\n",
    "ans:-run()\n",
    "    A run() function is used to define a thread's activity and can be overridden by a class that extends the threads class.\n",
    "    -start()\n",
    "    A start() method is used to initiate the activity of a thread. And it calls only once for each thread so that the execution\n",
    "    of the thread can begin.\n",
    "    -join()\n",
    "    A join() method is used to block the execution of another code until the thread terminates.\n",
    "    -isAlive()\n",
    "    It is used to check whether the thread is alive or not "
   ]
  },
  {
   "cell_type": "raw",
   "id": "95f8ed89-10bd-440d-a009-0ed645868ee9",
   "metadata": {},
   "source": [
    "4.write a python program to create two threads. Thread one must print the list of squares and thread two must print the list of\n",
    "    cubes"
   ]
  },
  {
   "cell_type": "code",
   "execution_count": 40,
   "id": "ed8b967c-b7ea-4759-9384-b917824eb1ed",
   "metadata": {},
   "outputs": [
    {
     "name": "stderr",
     "output_type": "stream",
     "text": [
      "Exception in thread Thread-154 (Sq_cu):\n",
      "Traceback (most recent call last):\n",
      "  File \"/opt/conda/lib/python3.10/threading.py\", line 1016, in _bootstrap_inner\n",
      "    self.run()\n",
      "  File \"/opt/conda/lib/python3.10/threading.py\", line 953, in run\n",
      "    self._target(*self._args, **self._kwargs)\n",
      "TypeError: __main__.Sq_cu() argument after * must be an iterable, not int\n",
      "Exception in thread Thread-155 (Sq_cu):\n",
      "Traceback (most recent call last):\n",
      "  File \"/opt/conda/lib/python3.10/threading.py\", line 1016, in _bootstrap_inner\n",
      "Exception in thread Thread-156 (Sq_cu):\n",
      "Traceback (most recent call last):\n",
      "  File \"/opt/conda/lib/python3.10/threading.py\", line 1016, in _bootstrap_inner\n",
      "    self.run()\n",
      "  File \"/opt/conda/lib/python3.10/threading.py\", line 953, in run\n",
      "    self._target(*self._args, **self._kwargs)\n",
      "TypeError: __main__.Sq_cu() argument after * must be an iterable, not int\n",
      "Exception in thread Thread-157 (Sq_cu):\n",
      "Traceback (most recent call last):\n",
      "  File \"/opt/conda/lib/python3.10/threading.py\", line 1016, in _bootstrap_inner\n",
      "    self.run()\n",
      "  File \"/opt/conda/lib/python3.10/threading.py\", line 953, in run\n",
      "Exception in thread Thread-158 (Sq_cu):\n",
      "Traceback (most recent call last):\n",
      "  File \"/opt/conda/lib/python3.10/threading.py\", line 1016, in _bootstrap_inner\n",
      "Exception in thread Thread-159 (Sq_cu):\n",
      "Traceback (most recent call last):\n",
      "  File \"/opt/conda/lib/python3.10/threading.py\", line 1016, in _bootstrap_inner\n",
      "    self._target(*self._args, **self._kwargs)\n",
      "TypeError: __main__.Sq_cu() argument after * must be an iterable, not int\n",
      "Exception in thread Thread-160 (Sq_cu):\n",
      "Traceback (most recent call last):\n",
      "  File \"/opt/conda/lib/python3.10/threading.py\", line 1016, in _bootstrap_inner\n",
      "    self.run()\n",
      "  File \"/opt/conda/lib/python3.10/threading.py\", line 953, in run\n",
      "    self.run()\n",
      "  File \"/opt/conda/lib/python3.10/threading.py\", line 953, in run\n",
      "    self.run()\n",
      "  File \"/opt/conda/lib/python3.10/threading.py\", line 953, in run\n",
      "Exception in thread Thread-161 (Sq_cu):\n",
      "Traceback (most recent call last):\n",
      "  File \"/opt/conda/lib/python3.10/threading.py\", line 1016, in _bootstrap_inner\n",
      "    Exception in thread Thread-162 (Sq_cu):\n",
      "Traceback (most recent call last):\n",
      "  File \"/opt/conda/lib/python3.10/threading.py\", line 1016, in _bootstrap_inner\n",
      "self._target(*self._args, **self._kwargs)\n",
      "TypeError: __main__.Sq_cu() argument after * must be an iterable, not int\n",
      "    self.run()\n",
      "  File \"/opt/conda/lib/python3.10/threading.py\", line 953, in run\n",
      "    self._target(*self._args, **self._kwargs)\n",
      "TypeError: __main__.Sq_cu() argument after * must be an iterable, not int\n",
      "    self._target(*self._args, **self._kwargs)\n",
      "TypeError: __main__.Sq_cu() argument after * must be an iterable, not int\n",
      "    self.run()\n",
      "  File \"/opt/conda/lib/python3.10/threading.py\", line 953, in run\n",
      "    self._target(*self._args, **self._kwargs)\n",
      "TypeError: __main__.Sq_cu() argument after * must be an iterable, not int\n",
      "    self.run()\n",
      "  File \"/opt/conda/lib/python3.10/threading.py\", line 953, in run\n",
      "    self._target(*self._args, **self._kwargs)\n",
      "TypeError: __main__.Sq_cu() argument after * must be an iterable, not int\n",
      "    self._target(*self._args, **self._kwargs)\n",
      "TypeError: __main__.Sq_cu() argument after * must be an iterable, not int\n"
     ]
    }
   ],
   "source": [
    "import threading\n",
    "l=[1,2,3,4,5,6,7,8,9]\n",
    "def Sq_cu(a):\n",
    "    sq,cu=[],[]\n",
    "    s=i**2\n",
    "    c=i**3\n",
    "    sq.append(s)\n",
    "    cu.append(c)\n",
    "    return sq,cu\n",
    "ther = [threading.Thread(target=Sq_cu , args = (l[i]) ) for i in range(len(l))]\n",
    "for tt in ther:\n",
    "    tt.start()"
   ]
  },
  {
   "cell_type": "code",
   "execution_count": null,
   "id": "aa7333b2-60ea-46c6-b289-27ddda3b882a",
   "metadata": {},
   "outputs": [],
   "source": [
    "import threading\n",
    "\n",
    "def print_squares():\n",
    "    l1=[]\n",
    "    for i in range(1, 11):\n",
    "        a=i**2\n",
    "        l1.append(a)\n",
    "        #print(f\"Square of {i}: {i**2}\")\n",
    "    print(l1)\n",
    "def print_cubes():\n",
    "    l1=[]\n",
    "    for i in range(1, 11):\n",
    "        a=i**3\n",
    "        l1.append(a)\n",
    "        #print(f\"Cube of {i}: {i**3}\")\n",
    "    print(l1)\n",
    "if __name__ == '__main__':\n",
    "    # Create the threads\n",
    "    t1 = threading.Thread(target=print_squares)\n",
    "    t2 = threading.Thread(target=print_cubes)\n",
    "\n",
    "    # Start the threads\n",
    "    t1.start()\n",
    "    t2.start()\n",
    "\n",
    "    # Wait for the threads to finish\n",
    "    t1.join()\n",
    "    t2.join()\n",
    "\n",
    "    # Print a message indicating that the program has finished\n",
    "    print(\"Program finished.\")"
   ]
  },
  {
   "cell_type": "raw",
   "id": "b024a416-e1cf-4035-94de-4fa9d5ee1bc0",
   "metadata": {},
   "source": [
    "5.State advantages and disadvantages of multithreading.\n",
    "ans:advantages:\n",
    "    Enhanced performance by decreased development time\n",
    "    Simplified and streamlined program coding\n",
    "    Improvised GUI responsiveness\n",
    "    Simultaneous and parallelized occurrence of tasks\n",
    "    Better use of cache storage by utilization of resources\n",
    "    Decreased cost of maintenance\n",
    "    Better use of CPU resource\n",
    "    disadvantages:\n",
    "    Complex debugging and testing processes\n",
    "    Overhead switching of context\n",
    "    Increased potential for deadlock occurrence\n",
    "    Increased difficulty level in writing a program\n",
    "    Unpredictable results (as i am getting in the above code although i feel the code is right.)"
   ]
  },
  {
   "cell_type": "raw",
   "id": "cef23806-286d-4e29-949b-ac38e39575c0",
   "metadata": {},
   "source": [
    "6.Explain deadlocks and race conditions.\n",
    "ans:-A deadlock is a concurrency failure mode where a thread or threads wait for a condition that never occurs. The result is\n",
    "    that the deadlock threads are unable to progress and the program is stuck or frozen and must be terminated forcefully.\n",
    "    -A race condition occurs when two threads access a shared variable at the same time. The first thread reads the variable,\n",
    "    and the second thread reads the same value from the variable"
   ]
  }
 ],
 "metadata": {
  "kernelspec": {
   "display_name": "Python 3 (ipykernel)",
   "language": "python",
   "name": "python3"
  },
  "language_info": {
   "codemirror_mode": {
    "name": "ipython",
    "version": 3
   },
   "file_extension": ".py",
   "mimetype": "text/x-python",
   "name": "python",
   "nbconvert_exporter": "python",
   "pygments_lexer": "ipython3",
   "version": "3.10.6"
  }
 },
 "nbformat": 4,
 "nbformat_minor": 5
}
