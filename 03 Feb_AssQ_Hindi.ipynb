{
 "cells": [
  {
   "cell_type": "raw",
   "id": "f7a6a693-2c5d-4167-a702-99765e8eb88b",
   "metadata": {},
   "source": [
    "1.Which keyword is used to create a function? Create a function to return a list of odd numbers in the\n",
    "range of 1 to 25.\n",
    "ans: 'def' is the keyword used to define a function."
   ]
  },
  {
   "cell_type": "code",
   "execution_count": 4,
   "id": "6e831d31-15a1-4cb2-b22b-17d9a35ca17f",
   "metadata": {},
   "outputs": [
    {
     "name": "stdout",
     "output_type": "stream",
     "text": [
      "[1, 2, 3, 4, 5, 6, 7, 8, 9, 10, 11, 12, 13, 14, 15, 16, 17, 18, 19, 20, 21, 22, 23, 24, 25]\n"
     ]
    },
    {
     "data": {
      "text/plain": [
       "[1, 3, 5, 7, 9, 11, 13, 15, 17, 19, 21, 23, 25]"
      ]
     },
     "execution_count": 4,
     "metadata": {},
     "output_type": "execute_result"
    }
   ],
   "source": [
    "l=[]\n",
    "for i in range(1,26):\n",
    "    l.append(i)\n",
    "print(l)\n",
    "def odd(b):\n",
    "    lo=[]\n",
    "    for i in b:\n",
    "        if i%2!=0:\n",
    "            lo.append(i)\n",
    "    return lo\n",
    "odd(l)"
   ]
  },
  {
   "cell_type": "raw",
   "id": "6f22a4a7-05e9-42a8-83d0-a0de6b828ace",
   "metadata": {},
   "source": [
    "2.Why *args and **kwargs is used in some functions? Create a function each for *args and **kwargs\n",
    "to demonstrate their use."
   ]
  },
  {
   "cell_type": "code",
   "execution_count": 1,
   "id": "f97fe298-3adb-4039-b5ac-3d1cbdce3f83",
   "metadata": {},
   "outputs": [
    {
     "data": {
      "text/plain": [
       "(1, 2, 3, 4, 5, 6, 67)"
      ]
     },
     "execution_count": 1,
     "metadata": {},
     "output_type": "execute_result"
    }
   ],
   "source": [
    "\"\"\"*args passes variable number of non-keyworded arguments and on which operation of the tuple can be performed.\"\"\"\n",
    "def tup(*args):\n",
    "    return args\n",
    "tup(1,2,3,4,5,6,67)"
   ]
  },
  {
   "cell_type": "code",
   "execution_count": 2,
   "id": "f92d54a2-2d79-4dfe-a37d-6e5c135ee8be",
   "metadata": {},
   "outputs": [
    {
     "data": {
      "text/plain": [
       "{'a': [1, 2, 3, 4], 'b': 'sagar', 'c': 23.45, 'd': 50}"
      ]
     },
     "execution_count": 2,
     "metadata": {},
     "output_type": "execute_result"
    }
   ],
   "source": [
    "\"\"\" **kwargs passes variable number of keyword arguments dictionary to function on which operation of\n",
    "a dictionary can be performed. \"\"\"\n",
    "def kw(**kwargs):\n",
    "    return kwargs\n",
    "kw(a=[1,2,3,4],b=\"sagar\",c=23.45,d=50)"
   ]
  },
  {
   "cell_type": "raw",
   "id": "e24a1a8f-87b9-4a5f-96a4-2d49c1381a3a",
   "metadata": {},
   "source": [
    "3.What is an iterator in python? Name the method used to initialise the iterator object and the method\n",
    "used for iteration. Use these methods to print the first five elements of the given list [2, 4, 6, 8, 10, 12, 14,\n",
    "16, 18, 20].\n",
    "ans:An iterator is an object that can be iterated upon, meaning that you can traverse through all the values. method used to initialise the iterator object is called iter() and method used for iteration is next()"
   ]
  },
  {
   "cell_type": "code",
   "execution_count": 8,
   "id": "dc893d07-6bd1-454d-b4bc-370b134a0e70",
   "metadata": {},
   "outputs": [
    {
     "name": "stdout",
     "output_type": "stream",
     "text": [
      "2\n",
      "4\n",
      "6\n",
      "8\n",
      "10\n"
     ]
    }
   ],
   "source": [
    "l=[2,4,6,8,10,12,14,16,18,20]\n",
    "i=iter(l)\n",
    "a=next(i)\n",
    "print(a)\n",
    "a=next(i)\n",
    "print(a)\n",
    "a=next(i)\n",
    "print(a)\n",
    "a=next(i)\n",
    "print(a)\n",
    "a=next(i)\n",
    "print(a)"
   ]
  },
  {
   "cell_type": "raw",
   "id": "d2a9e50f-904a-4f74-b62e-0508c8558de3",
   "metadata": {},
   "source": [
    "4.What is a generator function in python? Why yield keyword is used? Give an example of a generator function.\n",
    "ans:Generators are a special class of functions that simplify the task of writing\n",
    "iterators. Regular functions compute a value and return it, but generators return an iterator that returns a stream of values. yield keyword is used to create a generator function. in below example we make use of generator function to print n number of fibonacci series"
   ]
  },
  {
   "cell_type": "code",
   "execution_count": 2,
   "id": "4dc5a418-42bd-4c26-9b62-222d3743a61c",
   "metadata": {},
   "outputs": [
    {
     "name": "stdin",
     "output_type": "stream",
     "text": [
      "Enter the length of the fibonacci series 10\n"
     ]
    },
    {
     "name": "stdout",
     "output_type": "stream",
     "text": [
      "0\n",
      "1\n",
      "1\n",
      "2\n",
      "3\n",
      "5\n",
      "8\n",
      "13\n",
      "21\n",
      "34\n"
     ]
    }
   ],
   "source": [
    "f=int(input(\"Enter the length of the fibonacci series\"))\n",
    "def test_fib(n):\n",
    "    a,b = 0,1\n",
    "    for i in range(n):\n",
    "        yield a \n",
    "        a,b = b , a+b\n",
    "for i in test_fib(f):\n",
    "    print(i)"
   ]
  },
  {
   "cell_type": "raw",
   "id": "c06d10b0-bc64-4e2d-b336-8011d9cde24e",
   "metadata": {},
   "source": [
    "5.Create a generator function for prime numbers less than 1000. Use the next() method to print the\n",
    "first 20 prime numbers."
   ]
  },
  {
   "cell_type": "code",
   "execution_count": null,
   "id": "fcbb6db8-0907-49ba-9fa3-7a7d0cd271d0",
   "metadata": {},
   "outputs": [],
   "source": [
    "2, 3, 5, 7, 11, 13, 17, 19, 23, 29, 31, 37, 41, 43, 47, 53, 59, 61, 67, 71, 73, 79, 83, 89, 97."
   ]
  },
  {
   "cell_type": "code",
   "execution_count": 1,
   "id": "1d3908e7-9bab-4e55-8c59-2ec19dd50a9a",
   "metadata": {},
   "outputs": [
    {
     "name": "stdout",
     "output_type": "stream",
     "text": [
      "2\n",
      "3\n",
      "5\n",
      "7\n",
      "11\n",
      "13\n",
      "17\n",
      "19\n",
      "23\n",
      "29\n",
      "31\n",
      "37\n",
      "41\n",
      "43\n",
      "47\n",
      "53\n",
      "59\n",
      "61\n",
      "67\n",
      "71\n",
      "73\n"
     ]
    }
   ],
   "source": [
    "def prime():\n",
    "    for num in range(1001):\n",
    "        if num > 1:\n",
    "            for i in range(2, num):\n",
    "                if (num % i) == 0:\n",
    "                    break\n",
    "            else:\n",
    "                yield num\n",
    "p=prime()\n",
    "for i in range(21):\n",
    "    print(next(p))"
   ]
  },
  {
   "cell_type": "raw",
   "id": "76d19212-b128-4906-a5ce-609642657da3",
   "metadata": {},
   "source": [
    "6.Write a python program to print the first 10 Fibonacci numbers using a while loop."
   ]
  },
  {
   "cell_type": "code",
   "execution_count": 5,
   "id": "f002585f-5e86-42c4-bb45-addbab727263",
   "metadata": {},
   "outputs": [
    {
     "name": "stdout",
     "output_type": "stream",
     "text": [
      "0\n",
      "1\n",
      "1\n",
      "2\n",
      "3\n",
      "5\n",
      "8\n",
      "13\n",
      "21\n",
      "34\n"
     ]
    }
   ],
   "source": [
    "a,b,c = 0,1,1\n",
    "while c<=10:\n",
    "    print(a) \n",
    "    a,b = b , a+b\n",
    "    c=c+1"
   ]
  },
  {
   "cell_type": "raw",
   "id": "9f8a7626-a98d-4493-9268-da1fdae4df78",
   "metadata": {},
   "source": [
    "7.Write a List Comprehension to iterate through the given string: ‘pwskills’.\n",
    "Expected output: ['p', 'w', 's', 'k', 'i', 'l', 'l', 's'] "
   ]
  },
  {
   "cell_type": "code",
   "execution_count": 1,
   "id": "12f04738-1c36-46b1-9023-eeaf91838a83",
   "metadata": {},
   "outputs": [
    {
     "data": {
      "text/plain": [
       "['P', 'W', 'S', 'K', 'I', 'L', 'L', 'S']"
      ]
     },
     "execution_count": 1,
     "metadata": {},
     "output_type": "execute_result"
    }
   ],
   "source": [
    "s=\"pwskills\"\n",
    "[i.upper() for i in s]"
   ]
  },
  {
   "cell_type": "raw",
   "id": "296324bb-507a-4ef0-b8db-25b48d8bbeaa",
   "metadata": {},
   "source": [
    "8.Write a python program to check whether a given number is Palindrome or not using a while loop."
   ]
  },
  {
   "cell_type": "code",
   "execution_count": 4,
   "id": "58200627-fd23-4ce4-897b-595ff2f9aa8e",
   "metadata": {},
   "outputs": [
    {
     "name": "stdin",
     "output_type": "stream",
     "text": [
      "Enter a number: 121\n"
     ]
    },
    {
     "name": "stdout",
     "output_type": "stream",
     "text": [
      "The number is palindrome!\n"
     ]
    }
   ],
   "source": [
    "num=int(input(\"Enter a number:\"))\n",
    "temp=num\n",
    "rev=0\n",
    "while(num>0):\n",
    "    dig=num%10\n",
    "    rev=rev*10+dig\n",
    "    # '//' this arethmetic operation is used to do the division and it returns quotient after discarding the fraction.\n",
    "    num=num//10\n",
    "if(temp==rev):\n",
    "    print(\"The number is palindrome!\")\n",
    "else:\n",
    "    print(\"Not a palindrome!\")"
   ]
  },
  {
   "cell_type": "raw",
   "id": "c862ff72-298f-4b5b-ad24-453b7205869e",
   "metadata": {},
   "source": [
    "9.Write a code to print odd numbers from 1 to 100 using list comprehension"
   ]
  },
  {
   "cell_type": "code",
   "execution_count": 12,
   "id": "1bc33dd7-1888-41a1-acc2-0d7ee4f08105",
   "metadata": {},
   "outputs": [
    {
     "name": "stdout",
     "output_type": "stream",
     "text": [
      "original list\n",
      " [1, 2, 3, 4, 5, 6, 7, 8, 9, 10, 11, 12, 13, 14, 15, 16, 17, 18, 19, 20, 21, 22, 23, 24, 25, 26, 27, 28, 29, 30, 31, 32, 33, 34, 35, 36, 37, 38, 39, 40, 41, 42, 43, 44, 45, 46, 47, 48, 49, 50, 51, 52, 53, 54, 55, 56, 57, 58, 59, 60, 61, 62, 63, 64, 65, 66, 67, 68, 69, 70, 71, 72, 73, 74, 75, 76, 77, 78, 79, 80, 81, 82, 83, 84, 85, 86, 87, 88, 89, 90, 91, 92, 93, 94, 95, 96, 97, 98, 99]\n",
      "filtered out odd numbers from the list\n",
      " [1, 3, 5, 7, 9, 11, 13, 15, 17, 19, 21, 23, 25, 27, 29, 31, 33, 35, 37, 39, 41, 43, 45, 47, 49, 51, 53, 55, 57, 59, 61, 63, 65, 67, 69, 71, 73, 75, 77, 79, 81, 83, 85, 87, 89, 91, 93, 95, 97, 99]\n"
     ]
    }
   ],
   "source": [
    "l=[i for i in range(1,100)]\n",
    "print(\"original list\\n\",l)\n",
    "l1=[i for i in l if i%2!=0]\n",
    "print(\"filtered out odd numbers from the list\\n\",l1)"
   ]
  },
  {
   "cell_type": "code",
   "execution_count": null,
   "id": "74e255b2-a525-48f2-898b-63339246b0e3",
   "metadata": {},
   "outputs": [],
   "source": []
  }
 ],
 "metadata": {
  "kernelspec": {
   "display_name": "Python 3 (ipykernel)",
   "language": "python",
   "name": "python3"
  },
  "language_info": {
   "codemirror_mode": {
    "name": "ipython",
    "version": 3
   },
   "file_extension": ".py",
   "mimetype": "text/x-python",
   "name": "python",
   "nbconvert_exporter": "python",
   "pygments_lexer": "ipython3",
   "version": "3.10.6"
  }
 },
 "nbformat": 4,
 "nbformat_minor": 5
}
