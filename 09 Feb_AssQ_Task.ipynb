{
 "cells": [
  {
   "cell_type": "raw",
   "id": "5698a722-e432-4886-ac6a-2672f58ca4b3",
   "metadata": {},
   "source": [
    "1.Create a vehicle class with an init method having instance variables as name_of_vehicle, max_speed\n",
    "and average_of_vehicle."
   ]
  },
  {
   "cell_type": "code",
   "execution_count": 4,
   "id": "2a2ddac1-83e8-45c5-8ea4-4432bc46d362",
   "metadata": {},
   "outputs": [],
   "source": [
    "class vehicle:\n",
    "    def __init__(self,name_of_vehicle,max_speed,average_of_vehicle):\n",
    "        self.name_of_vehicle=name_of_vehicle\n",
    "        self.max_speed=max_speed\n",
    "        self.average_of_vehicle=average_of_vehicle"
   ]
  },
  {
   "cell_type": "raw",
   "id": "0763ea31-6496-4213-917b-1cbdb39d29a4",
   "metadata": {},
   "source": [
    "2.Create a child class car from the vehicle class created in Que 1, which will inherit the vehicle class.\n",
    "Create a method named seating_capacity which takes capacity as an argument and returns the name of\n",
    "the vehicle and its seating capacity."
   ]
  },
  {
   "cell_type": "code",
   "execution_count": 5,
   "id": "a14b795f-0b4e-4caf-ac33-12a631d2e3ce",
   "metadata": {},
   "outputs": [],
   "source": [
    "class car(vehicle):\n",
    "    def seating_capacity(self,capacity):\n",
    "        self.capacity=capacity\n",
    "        return self.name_of_vehicle,self.capacity"
   ]
  },
  {
   "cell_type": "code",
   "execution_count": 9,
   "id": "9adcec6d-3fb4-48e3-a001-a7b95c4647c9",
   "metadata": {},
   "outputs": [],
   "source": [
    "c=car('Punch',210,15)"
   ]
  },
  {
   "cell_type": "code",
   "execution_count": 10,
   "id": "5e0664b5-e85e-4451-9caa-6404c585f6c8",
   "metadata": {},
   "outputs": [
    {
     "data": {
      "text/plain": [
       "('Punch', 4)"
      ]
     },
     "execution_count": 10,
     "metadata": {},
     "output_type": "execute_result"
    }
   ],
   "source": [
    "c.seating_capacity(4)"
   ]
  },
  {
   "cell_type": "raw",
   "id": "d158dd17-452c-4f63-951a-1ac177c2821f",
   "metadata": {},
   "source": [
    "3.What is multiple inheritance? Write a python code to demonstrate multiple inheritance.\n",
    "ans:In multiple inheritance the class is derived from 2 or more than 2 base classes in below example we can see\n",
    "    class son is derived from two class that is class mother and father, that the class son inherits the two base class."
   ]
  },
  {
   "cell_type": "code",
   "execution_count": 11,
   "id": "9be34cf5-38d0-4f0f-b907-67c45a2e1a70",
   "metadata": {},
   "outputs": [
    {
     "name": "stdin",
     "output_type": "stream",
     "text": [
      "enter fathers name harsukh\n",
      "enter mothers name rasila\n"
     ]
    },
    {
     "name": "stdout",
     "output_type": "stream",
     "text": [
      "Father: harsukh\n",
      "Mother: rasila\n"
     ]
    }
   ],
   "source": [
    "# example of multiple inheritance\n",
    "# Base class1\n",
    "class Mother:\n",
    "    mothername=\"\"\n",
    "    def mother(self):\n",
    "        print(self.mothername)\n",
    "class Father:\n",
    "    fathername=\"\"\n",
    "    def father(self):\n",
    "        print(self.fathername)\n",
    "class Son(Mother,Father):\n",
    "    def parents(self):\n",
    "        print(\"Father:\",self.fathername)\n",
    "        print(\"Mother:\",self.mothername) \n",
    "s1=Son()\n",
    "s1.fathername=input(\"enter fathers name\")\n",
    "s1.mothername=input(\"enter mothers name\")\n",
    "s1.parents()"
   ]
  },
  {
   "cell_type": "raw",
   "id": "b0c593e0-f3c7-4884-ab57-35a285137643",
   "metadata": {},
   "source": [
    "4.What are getter and setter in python? Create a class and create a getter and a setter method in this\n",
    "class.\n",
    "ans:Getter: A method that allows you to access an attribute in a given class\n",
    "    Setter: A method that allows you to set or mutate the value of an attribute in a class"
   ]
  },
  {
   "cell_type": "code",
   "execution_count": 5,
   "id": "1c91de04-266d-403b-90c8-b6169b955562",
   "metadata": {},
   "outputs": [
    {
     "name": "stdout",
     "output_type": "stream",
     "text": [
      "3500\n"
     ]
    },
    {
     "data": {
      "text/plain": [
       "4"
      ]
     },
     "execution_count": 5,
     "metadata": {},
     "output_type": "execute_result"
    }
   ],
   "source": [
    "class pwskills :\n",
    "    \n",
    "    def __init__(self , course_price , coruse_name):\n",
    "        \n",
    "        self.__course_price = course_price\n",
    "        self.course_name = coruse_name\n",
    "        \n",
    "    @property\n",
    "    def course_price_access(self) : \n",
    "        return self.__course_price\n",
    "    \n",
    "    @course_price_access.setter\n",
    "    def course_price_set(self , price ):\n",
    "            self.__course_price = price\n",
    "pw = pwskills(3500 , \"data science masters\")\n",
    "print(pw.course_price_access)\n",
    "pw.course_price_set=4\n",
    "pw.course_price_access"
   ]
  },
  {
   "cell_type": "raw",
   "id": "84dd2537-b250-42e5-b3e0-3d5385093a19",
   "metadata": {},
   "source": [
    "5.What is method overriding in python? Write a python code to demonstrate method overriding.\n",
    "ans:Method overriding in Python is when you have two methods with the same name that each perform different tasks.\n",
    "    in the example given below we can see both the class have same method name syllabus() and they both give different\n",
    "    output this proccess is known as method overload or polymorphism."
   ]
  },
  {
   "cell_type": "code",
   "execution_count": 27,
   "id": "dca77c53-16c6-49f0-8874-c97118cb29ba",
   "metadata": {},
   "outputs": [
    {
     "name": "stdout",
     "output_type": "stream",
     "text": [
      "this is my syllabus for data_science class\n",
      "this is my syllabus for web_dev class\n"
     ]
    }
   ],
   "source": [
    "class data_science():\n",
    "    def syllabus(self):\n",
    "        print(\"this is my syllabus for data_science class\")\n",
    "class web_dev():\n",
    "    def syllabus(self):\n",
    "        print(\"this is my syllabus for web_dev class\")\n",
    "def class_parcer(class_obj):\n",
    "    for i in class_obj:\n",
    "        i.syllabus()\n",
    "data_science=data_science()\n",
    "web_dev=web_dev()\n",
    "class_obj=[data_science,web_dev]\n",
    "class_parcer(class_obj)"
   ]
  },
  {
   "cell_type": "code",
   "execution_count": null,
   "id": "1354a550-f045-432e-90f7-f206e2b45d33",
   "metadata": {},
   "outputs": [],
   "source": []
  }
 ],
 "metadata": {
  "kernelspec": {
   "display_name": "Python 3 (ipykernel)",
   "language": "python",
   "name": "python3"
  },
  "language_info": {
   "codemirror_mode": {
    "name": "ipython",
    "version": 3
   },
   "file_extension": ".py",
   "mimetype": "text/x-python",
   "name": "python",
   "nbconvert_exporter": "python",
   "pygments_lexer": "ipython3",
   "version": "3.10.6"
  }
 },
 "nbformat": 4,
 "nbformat_minor": 5
}
