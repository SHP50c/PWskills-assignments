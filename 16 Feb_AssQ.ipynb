{
 "cells": [
  {
   "cell_type": "raw",
   "id": "7a441152-80c6-44bb-935f-f1c313714649",
   "metadata": {},
   "source": [
    "1.What is a database? Differentiate between SQL and NoSQL databases.\n",
    "ans:A database is an organized collection of data, so that it can be easily accessed and managed.You can organize data into\n",
    "    tables, rows, columns, and index it to make it easier to find relevant information.A database is usually controlled by\n",
    "    a database management system (DBMS).\n",
    "    \n",
    "    -SQL\n",
    "    1)RELATIONAL DATABASE MANAGEMENT SYSTEM (RDBMS)\n",
    "    2)These databases have fixed or static or predefined schema\n",
    "    3)These databases are not suited for hierarchical data storage.\n",
    "    4)These databases are best suited for complex queries\n",
    "    5)Vertically Scalable\n",
    "    6)Follows ACID property\n",
    "    7)Examples: MySQL, PostgreSQL, Oracle, MS-SQL Server, etc.\n",
    "    \n",
    "    -NoSQL\n",
    "    1)Non-relational or distributed database system.\n",
    "    2)They have dynamic schema\n",
    "    3)These databases are best suited for hierarchical data storage.\n",
    "    4)These databases are not so good for complex queries\n",
    "    5)Horizontally scalable\n",
    "    6)Follows CAP(consistency, availability, partition tolerance)\n",
    "    7)Examples: MongoDB, GraphQL, HBase, Neo4j, Cassandra, etc."
   ]
  },
  {
   "cell_type": "raw",
   "id": "ab6a6ca1-ab32-4d43-bee6-91915711f667",
   "metadata": {},
   "source": [
    "2.What is DDL? Explain why CREATE, DROP, ALTER, and TRUNCATE are used with an example.\n",
    "ans:DDL or Data Definition Language actually consists of the SQL commands that can be used to define the database schema.\n",
    "    It simply deals with descriptions of the database schema and is used to create and modify the structure of database\n",
    "    objects in the database.\n",
    "    \n",
    "    CREATE: This command is used to create the database or its objects (like table, index, function, views, store\n",
    "    procedure, and triggers). Example query:-\n",
    "    CREATE DATABASE if not EXISTS test1;\n",
    "    \n",
    "    DROP: This command is used to delete objects from the database. Example query:-\n",
    "    DROP TABLE test_table;\n",
    "    \n",
    "    ALTER: This is used to alter the structure of the database. ALTER TABLE is used to add, delete/drop or modify columns\n",
    "    in the existing table. It is also used to add and drop various constraints on the existing table. Example query:-\n",
    "    ALTER TABLE test.test_table ADD(c6 VARCHAR(30));\n",
    "    \n",
    "    TRUNCATE: This is used to remove all records from a table, including all spaces allocated for the records are removed.\n",
    "    Example query:-\n",
    "    TRUNCATE TABLE  test_table;\n",
    "    Note:- original structure of the table will remain only the data will get erased from the table."
   ]
  },
  {
   "cell_type": "raw",
   "id": "65327d1d-510a-4491-9190-89743fcee03b",
   "metadata": {},
   "source": [
    "3.What is DML? Explain INSERT, UPDATE, and DELETE with an example.\n",
    "ans:The SQL commands that deals with the manipulation of data present in the database belong to DML or Data Manipulation\n",
    "    Language and this includes most of the SQL statements. It is the component of the SQL statement that controls access to\n",
    "    data and to the database.\n",
    "    \n",
    "    INSERT: It is used to insert data into a table. Example query:-\n",
    "    insert into test.test_table values(123, 'sagar', 234.56, 234, 'patel','abc')\n",
    "    \n",
    "    UPDATE: It is used to update existing data within a table. Example query:-\n",
    "    UPDATE test.test_table SET c2='Har' WHERE c6= 'abc';\n",
    "    \n",
    "    DELETE: It is used to delete records from a database table. Example query:-\n",
    "    DELETE FROM test.test_table WHERE c2= 'Har';"
   ]
  },
  {
   "cell_type": "raw",
   "id": "33c351f2-93c5-4889-8dcd-47fc3dedabaa",
   "metadata": {},
   "source": [
    "4.What is DQL? Explain SELECT with an example.\n",
    "ans:DQL statements are used for performing queries on the data within schema objects. The purpose of the DQL Command is to\n",
    "    get some schema relation based on the query passed to it. We can define DQL as follows it is a component of SQL\n",
    "    statement that allows getting data from the database and imposing order upon it. It includes the SELECT statement.\n",
    "    \n",
    "    SELECT: It is used to retrieve data from the database. Example query:-\n",
    "    select c1,c5 from test.test_table"
   ]
  },
  {
   "cell_type": "raw",
   "id": "e47b554f-f0d9-47e6-84e0-1d4d5733eb5b",
   "metadata": {},
   "source": [
    "5.Explain Primary Key and Foreign Key.\n",
    "ans:Primary Key: A primary key is used to ensure that data in the specific column is unique. A column cannot have NULL\n",
    "    values. It is either an existing table column or a column that is specifically generated by the database according to a\n",
    "    defined sequence.\n",
    "    \n",
    "    Foreign Key: A foreign key is a column or group of columns in a relational database table that provides a link between\n",
    "    data in two tables. It is a column (or columns) that references a column (most often the primary key) of another table. "
   ]
  },
  {
   "cell_type": "raw",
   "id": "502e3123-fc0a-42bf-b334-d91386630479",
   "metadata": {},
   "source": [
    "6.Write a python code to connect MySQL to python. Explain the cursor() and execute() method.\n",
    "ans:Python code to connect MySQL to python is shown below.\n",
    "    import mysql.connector\n",
    "    mydb=mysql.connector.connect(\n",
    "      host=\"localhost\",\n",
    "      user=\"abc\",\n",
    "      password=\"password\"\n",
    "    )\n",
    "    print(mydb)\n",
    "    mycursor=mydb.cursor()\n",
    "    mycursor.execute(\"CREATE DATABASE if not exists test2\")\n",
    "    \n",
    "    cursor():\n",
    "    It is an object that is used to make the connection for executing SQL queries. It acts as middleware between\n",
    "    SQL database connection and SQL query. It is created after giving connection to SQL database.\n",
    "    \n",
    "    execute():\n",
    "    This method executes the given database operation (query or command). The parameters found in the tuple or dictionary\n",
    "    are bound to the variables in the operation."
   ]
  },
  {
   "cell_type": "raw",
   "id": "0251f3cb-ca24-4003-9d23-a4cc6f0bf035",
   "metadata": {},
   "source": [
    "7.Give the order of execution of SQL clauses in an SQL query.\n",
    "ans:The order in which the clauses in queries are executed is as follows:\n",
    "\n",
    "    1)FROM/JOIN: The FROM and/or JOIN clauses are executed first to determine the data of interest.\n",
    "    2)WHERE: The WHERE clause is executed to filter out records that do not meet the constraints.\n",
    "    3)GROUP BY: The GROUP BY clause is executed to group the data based on the values in one or more columns.\n",
    "    4)HAVING: The HAVING clause is executed to remove the created grouped records that don’t meet the constraints.\n",
    "    5)SELECT: The SELECT clause is executed to derive all desired columns and expressions.\n",
    "    6)ORDER BY: The ORDER BY clause is executed to sort the derived values in ascending or descending order.\n",
    "    7)LIMIT/OFFSET: Finally, the LIMIT and/or OFFSET clauses are executed to keep or skip a specified number of rows.\n",
    "\n"
   ]
  }
 ],
 "metadata": {
  "kernelspec": {
   "display_name": "Python 3 (ipykernel)",
   "language": "python",
   "name": "python3"
  },
  "language_info": {
   "codemirror_mode": {
    "name": "ipython",
    "version": 3
   },
   "file_extension": ".py",
   "mimetype": "text/x-python",
   "name": "python",
   "nbconvert_exporter": "python",
   "pygments_lexer": "ipython3",
   "version": "3.10.6"
  }
 },
 "nbformat": 4,
 "nbformat_minor": 5
}
