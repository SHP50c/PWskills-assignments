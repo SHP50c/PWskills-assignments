{
 "cells": [
  {
   "cell_type": "raw",
   "id": "2d862133-9edd-47c3-b502-ae7861de3160",
   "metadata": {},
   "source": [
    "1.Create a python program to sort the given list of tuples based on integer value using a\n",
    "lambda function.\n",
    "[('Sachin Tendulkar', 34357), ('Ricky Ponting', 27483), ('Jack Kallis', 25534), ('Virat Kohli', 24936)]"
   ]
  },
  {
   "cell_type": "code",
   "execution_count": 22,
   "id": "e9c0b8c6-b78d-4ca9-a11f-db83a5da174e",
   "metadata": {},
   "outputs": [
    {
     "name": "stdout",
     "output_type": "stream",
     "text": [
      "[('Virat Kohli', 24936), ('Jack Kallis', 25534), ('Ricky Ponting', 27483), ('Sachin Tendulkar', 34357)]\n"
     ]
    }
   ],
   "source": [
    "l=[('Sachin Tendulkar', 34357), ('Ricky Ponting', 27483), ('Jack Kallis', 25534), ('Virat Kohli', 24936)]\n",
    "l.sort(key=lambda t:t[1])\n",
    "print(l)"
   ]
  },
  {
   "cell_type": "raw",
   "id": "d218665a-6cea-4b2a-bb1e-ecc3ce31238a",
   "metadata": {},
   "source": [
    "2.Write a Python Program to find the squares of all the numbers in the given list of integers using\n",
    "lambda and map functions.\n",
    "[1, 2, 3, 4, 5, 6, 7, 8, 9, 10]"
   ]
  },
  {
   "cell_type": "code",
   "execution_count": 23,
   "id": "91441b57-58d0-4750-9415-bfd56c495bcf",
   "metadata": {},
   "outputs": [
    {
     "name": "stdout",
     "output_type": "stream",
     "text": [
      "[1, 4, 9, 16, 25, 36, 49, 64, 81, 100]\n"
     ]
    }
   ],
   "source": [
    "l=[1, 2, 3, 4, 5, 6, 7, 8, 9, 10]\n",
    "print(list(map(lambda x:x**2,l)))"
   ]
  },
  {
   "cell_type": "raw",
   "id": "bc9f0459-af97-4404-9279-0426ab09038b",
   "metadata": {},
   "source": [
    "3.Write a python program to convert the given list of integers into a tuple of strings. Use map and\n",
    "lambda functions\n",
    "Given String: [1, 2, 3, 4, 5, 6, 7, 8, 9, 10]\n",
    "Expected output: ('1', '2', '3', '4', '5', '6', '7', '8', '9', '10')"
   ]
  },
  {
   "cell_type": "code",
   "execution_count": 25,
   "id": "2562ad20-0293-4a68-a71a-e5761e318537",
   "metadata": {},
   "outputs": [
    {
     "name": "stdout",
     "output_type": "stream",
     "text": [
      "Given String: [1, 2, 3, 4, 5, 6, 7, 8, 9, 10]\n",
      "Expected Output: ('1', '2', '3', '4', '5', '6', '7', '8', '9', '10')\n"
     ]
    }
   ],
   "source": [
    "l=[1, 2, 3, 4, 5, 6, 7, 8, 9, 10]\n",
    "t=tuple(map(lambda x:str(x),l))\n",
    "print(\"Given String:\",l)\n",
    "print(\"Expected Output:\",t)"
   ]
  },
  {
   "cell_type": "raw",
   "id": "5c35c276-ff2c-48c9-a610-65f337c59fad",
   "metadata": {},
   "source": [
    "4.Write a python program using reduce function to compute the product of a list containing numbers\n",
    "from 1 to 25."
   ]
  },
  {
   "cell_type": "code",
   "execution_count": 15,
   "id": "db82e207-ad49-49a0-ab2b-d7797a7d9a31",
   "metadata": {},
   "outputs": [
    {
     "name": "stdin",
     "output_type": "stream",
     "text": [
      "enter the length of numbers required in the list 25\n"
     ]
    },
    {
     "name": "stdout",
     "output_type": "stream",
     "text": [
      "[1, 2, 3, 4, 5, 6, 7, 8, 9, 10, 11, 12, 13, 14, 15, 16, 17, 18, 19, 20, 21, 22, 23, 24, 25]\n",
      "15511210043330985984000000\n"
     ]
    }
   ],
   "source": [
    "n=int(input(\"enter the length of numbers required in the list\"))\n",
    "l=[]\n",
    "for i in range(1,n+1):\n",
    "    l.append(i)\n",
    "print(l)\n",
    "from functools import  reduce\n",
    "print(reduce(lambda x,y:x*y,l))"
   ]
  },
  {
   "cell_type": "raw",
   "id": "7c2ead73-e4a4-4f36-b2e8-e9a38b3dbe35",
   "metadata": {},
   "source": [
    "5.Write a python program to filter the numbers in a given list that are divisible by 2 and 3 using the\n",
    "filter function.\n",
    "[2, 3, 6, 9, 27, 60, 90, 120, 55, 46]"
   ]
  },
  {
   "cell_type": "code",
   "execution_count": 2,
   "id": "578e2301-92c1-4b45-8173-9a31373ad956",
   "metadata": {},
   "outputs": [
    {
     "name": "stdout",
     "output_type": "stream",
     "text": [
      "The given list is [2, 3, 6, 9, 27, 60, 90, 120, 55, 46]\n",
      "The numbers given in the list that are divisible by 2 are [2, 6, 60, 90, 120, 46]\n",
      "The numbers given in the list that are divisible by 3 are [3, 6, 9, 27, 60, 90, 120]\n"
     ]
    }
   ],
   "source": [
    "l=[2,3,6,9,27,60,90,120,55,46]\n",
    "l2=list(filter(lambda x:x%2==0,l))\n",
    "l3=list(filter(lambda x:x%3==0,l))\n",
    "print(\"The given list is\",l)\n",
    "print(\"The numbers given in the list that are divisible by 2 are\",l2)\n",
    "print(\"The numbers given in the list that are divisible by 3 are\",l3)"
   ]
  },
  {
   "cell_type": "raw",
   "id": "5a8f7c72-a153-4508-afad-69ec28ca313d",
   "metadata": {},
   "source": [
    "6.Write a python program to find palindromes in the given list of strings using lambda and filter\n",
    "function.\n",
    "['python', 'php', 'aba', 'radar', 'level']"
   ]
  },
  {
   "cell_type": "code",
   "execution_count": 6,
   "id": "e7def15a-e9f7-4be0-a243-cd412ee9ac55",
   "metadata": {},
   "outputs": [
    {
     "name": "stdout",
     "output_type": "stream",
     "text": [
      "Given list is ['python', 'php', 'aba', 'radar', 'level']\n",
      "Palindromes in the list are ['php', 'aba', 'radar', 'level']\n"
     ]
    }
   ],
   "source": [
    "l=['python','php','aba','radar','level']\n",
    "print(\"Given list is\",l)\n",
    "l1=list(filter(lambda x:x==x[::-1],l))\n",
    "print(\"Palindromes in the list are\",l1)"
   ]
  },
  {
   "cell_type": "code",
   "execution_count": null,
   "id": "c5f7c91a-9ec1-4797-abad-ab947c84beac",
   "metadata": {},
   "outputs": [],
   "source": []
  }
 ],
 "metadata": {
  "kernelspec": {
   "display_name": "Python 3 (ipykernel)",
   "language": "python",
   "name": "python3"
  },
  "language_info": {
   "codemirror_mode": {
    "name": "ipython",
    "version": 3
   },
   "file_extension": ".py",
   "mimetype": "text/x-python",
   "name": "python",
   "nbconvert_exporter": "python",
   "pygments_lexer": "ipython3",
   "version": "3.10.6"
  }
 },
 "nbformat": 4,
 "nbformat_minor": 5
}
