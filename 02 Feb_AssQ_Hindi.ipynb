{
 "cells": [
  {
   "cell_type": "raw",
   "id": "18efaef7-62d1-40f5-8ed9-ae80a74244a2",
   "metadata": {},
   "source": [
    "1. Explain with an example each when to use a for loop and a while loop.\n",
    "ans:"
   ]
  },
  {
   "cell_type": "code",
   "execution_count": 6,
   "id": "5054e9b7-365e-4008-9c60-9eeffd03ac32",
   "metadata": {},
   "outputs": [
    {
     "name": "stdin",
     "output_type": "stream",
     "text": [
      "Enter the value that you want to extract from the list. 32\n"
     ]
    },
    {
     "name": "stdout",
     "output_type": "stream",
     "text": [
      "32\n",
      "loop got ended, it iterated the block of code 6 times before it found the value 32\n"
     ]
    }
   ],
   "source": [
    "\"\"\"When we need to end the loop on a condition other than the number of times, we use a while loop. In this case, it is not\n",
    "necessary to know the condition beforehand. That is why we can give a boolean expression in the initialization of the loop.\"\"\"\n",
    "n=[1,33,12,3,14,65,32,67,23,90]\n",
    "i=0\n",
    "value=int(input(\"Enter the value that you want to extract from the list.\"))\n",
    "while True:\n",
    "    if n[i]==value:\n",
    "        print(n[i])\n",
    "        break\n",
    "    i=i+1\n",
    "print(\"loop got ended, it iterated the block of code\",i,\"times before it found the value\",value)"
   ]
  },
  {
   "cell_type": "raw",
   "id": "26c244d3-314d-44be-a47d-8f04851c94f0",
   "metadata": {},
   "source": [
    "In the above example considering the length of the list is unknown to the user, but the user knows the particular value\n",
    "exist in the list so the code prompts the user to enter that value. later the code compares each value from the list with thw value entered by the user, once it gets the equivalent value in the list it returns the value and breaks the indefinite while loop."
   ]
  },
  {
   "cell_type": "code",
   "execution_count": 2,
   "id": "12521ee6-5782-46bd-a757-8d7870b773a7",
   "metadata": {},
   "outputs": [
    {
     "name": "stdin",
     "output_type": "stream",
     "text": [
      "Enter the length of the list 5\n"
     ]
    },
    {
     "name": "stdout",
     "output_type": "stream",
     "text": [
      "enter the numbers in the l\n"
     ]
    },
    {
     "name": "stdin",
     "output_type": "stream",
     "text": [
      " 12\n",
      " 23\n",
      " 34\n",
      " 45\n",
      " 56\n"
     ]
    },
    {
     "name": "stdout",
     "output_type": "stream",
     "text": [
      "length of list you entered is 5 \n",
      "numbers you entered in the list are as follow [12, 23, 34, 45, 56]\n"
     ]
    }
   ],
   "source": [
    " \"\"\"The for loop is used when we already know the number of iterations, which means when we know how many times a statement has\n",
    "to be executed. That is why we have to specify the ending point in the for loop initialization.\"\"\"\n",
    "n=[]\n",
    "b=int(input(\"Enter the length of the list\"))\n",
    "print(\"enter the numbers in the l\")\n",
    "for i in range(0,b):\n",
    "    a=int(input())\n",
    "    n.append(a)\n",
    "print(\"length of list you entered is\",b,\"\\nnumbers you entered in the list are as follow\",n)"
   ]
  },
  {
   "cell_type": "raw",
   "id": "be86f331-b112-40c1-8f00-ed61c71dca44",
   "metadata": {},
   "source": [
    "In the above code the user wants to create a definite list of hence the for loop is used since the number of iteration will be assigned by the user as the code will prompt the user to enter the length of the list which inturn will be used as the end point of the loop. as we can see the code prompts the user to enter the length of the list, later it prompts the user to enter the numbers in the list within the range of the length of the list. this is possible using for loop. "
   ]
  },
  {
   "cell_type": "raw",
   "id": "902e5070-99a2-43a5-8abb-778b86e795aa",
   "metadata": {},
   "source": [
    "2.Write a python program to print the sum and product of the first 10 natural numbers using for\n",
    "and while loop"
   ]
  },
  {
   "cell_type": "code",
   "execution_count": 30,
   "id": "49b01ad3-4486-4f87-b8e3-6536d3e2779e",
   "metadata": {},
   "outputs": [
    {
     "name": "stdout",
     "output_type": "stream",
     "text": [
      "sum of first natural numbers is 55 \n",
      "product of first ten natural numbers is 3628800\n"
     ]
    }
   ],
   "source": [
    "\"\"\"using for loop\"\"\"\n",
    "a,b,c,s,p=0,0,1,0,1\n",
    "for i in range(1,11):\n",
    "    a=i\n",
    "    s=a+b\n",
    "    p=a*c\n",
    "    c=p\n",
    "    b=s\n",
    "print(\"sum of first natural numbers is\",s,\"\\nproduct of first ten natural numbers is\",p)"
   ]
  },
  {
   "cell_type": "code",
   "execution_count": 34,
   "id": "0bba8a9a-33b4-4d59-a322-65950bde26f6",
   "metadata": {},
   "outputs": [
    {
     "name": "stdout",
     "output_type": "stream",
     "text": [
      "sum of first natural numbers is 55 \n",
      "product of first ten natural numbers is 3628800\n"
     ]
    }
   ],
   "source": [
    "\"\"\"using while loop\"\"\"\n",
    "a,b,c,s,p=0,0,1,0,1\n",
    "count=1\n",
    "while count<=10:\n",
    "    a=count\n",
    "    s=a+b\n",
    "    p=a*c\n",
    "    c=p\n",
    "    b=s\n",
    "    count=count+1\n",
    "print(\"sum of first natural numbers is\",s,\"\\nproduct of first ten natural numbers is\",p)"
   ]
  },
  {
   "cell_type": "raw",
   "id": "e80d7607-9923-4b43-b783-dd0bf6d1b303",
   "metadata": {},
   "source": [
    "3.Create a python program to compute the electricity bill for a household.\n",
    "The per-unit charges in rupees are as follows: For the first 100 units, the user will be charged Rs. 4.5 per\n",
    "unit, for the next 100 units, the user will be charged Rs. 6 per unit, and for the next 100 units, the user will\n",
    "be charged Rs. 10 per unit, After 300 units and above the user will be charged Rs. 20 per unit.\n",
    "You are required to take the units of electricity consumed in a month from the user as input.\n",
    "Your program must pass this test case: when the unit of electricity consumed by the user in a month is\n",
    "310, the total electricity bill should be 2250"
   ]
  },
  {
   "cell_type": "code",
   "execution_count": 6,
   "id": "d133439d-9a0d-4f6f-8a17-35be0ae62068",
   "metadata": {},
   "outputs": [
    {
     "name": "stdin",
     "output_type": "stream",
     "text": [
      "enter the units consumed 310\n"
     ]
    },
    {
     "name": "stdout",
     "output_type": "stream",
     "text": [
      "units consemed by the costumer in a month is 100 \n",
      "total bill comes to 2250.0\n"
     ]
    }
   ],
   "source": [
    "unit=int(input(\"enter the units consumed\"))\n",
    "b1,b2,b3,b4,bill=0,0,0,0,0\n",
    "while unit>0:\n",
    "    if unit>300:\n",
    "        u=unit-300\n",
    "        b1=u*20\n",
    "        unit=unit-u\n",
    "    elif unit>200:\n",
    "        u=unit-200\n",
    "        b2=u*10\n",
    "        unit=unit-u\n",
    "    elif unit>100:\n",
    "        u=unit-100\n",
    "        b3=u*6\n",
    "        unit=unit-u\n",
    "    elif unit<=100:\n",
    "        b4=unit*4.5\n",
    "        break\n",
    "bill=b1+b2+b3+b4\n",
    "print(\"units consemed by the costumer in a month is\",unit,\"\\ntotal bill comes to\",bill)"
   ]
  },
  {
   "cell_type": "raw",
   "id": "6c94fb31-3b78-4e70-91d5-bb2ff3699973",
   "metadata": {},
   "source": [
    "4.Create a list of numbers from 1 to 100. Use for loop and while loop to calculate the cube of each\n",
    "number and if the cube of that number is divisible by 4 or 5 then append that number in a list and print\n",
    "that list."
   ]
  },
  {
   "cell_type": "code",
   "execution_count": 13,
   "id": "7e5c0f8a-07ff-43b7-bd7d-6b3f023133f2",
   "metadata": {},
   "outputs": [
    {
     "name": "stdout",
     "output_type": "stream",
     "text": [
      "list of numbers from 1 to 100 is [1, 2, 3, 4, 5, 6, 7, 8, 9, 10, 11, 12, 13, 14, 15, 16, 17, 18, 19, 20, 21, 22, 23, 24, 25, 26, 27, 28, 29, 30, 31, 32, 33, 34, 35, 36, 37, 38, 39, 40, 41, 42, 43, 44, 45, 46, 47, 48, 49, 50, 51, 52, 53, 54, 55, 56, 57, 58, 59, 60, 61, 62, 63, 64, 65, 66, 67, 68, 69, 70, 71, 72, 73, 74, 75, 76, 77, 78, 79, 80, 81, 82, 83, 84, 85, 86, 87, 88, 89, 90, 91, 92, 93, 94, 95, 96, 97, 98, 99, 100] \n",
      "number divisible by 4 in that list is [4, 8, 12, 16, 20, 24, 28, 32, 36, 40, 44, 48, 52, 56, 60, 64, 68, 72, 76, 80, 84, 88, 92, 96, 100] \n",
      "number divisible by 5 is [5, 10, 15, 25, 30, 35, 45, 50, 55, 65, 70, 75, 85, 90, 95]\n"
     ]
    }
   ],
   "source": [
    "n=[]\n",
    "l1=[]\n",
    "l2=[]\n",
    "for i in range(1,101):\n",
    "    n.append(i)\n",
    "for i in n:\n",
    "    if i%4==0:\n",
    "        l1.append(i)\n",
    "    elif i%5==0:\n",
    "        l2.append(i)\n",
    "print(\"list of numbers from 1 to 100 is\",n,\"\\nnumber divisible by 4 in that list is\",l1,\"\\nnumber divisible by 5 is\",l2)"
   ]
  },
  {
   "cell_type": "raw",
   "id": "c520f229-b751-4257-af66-48b63e6af0a6",
   "metadata": {},
   "source": [
    "5.Write a program to filter count vowels in the below-given string.\n",
    "string = \"I want to become a data scientist"
   ]
  },
  {
   "cell_type": "code",
   "execution_count": 19,
   "id": "2dfb9f97-153f-416f-891d-6476bf532798",
   "metadata": {},
   "outputs": [
    {
     "name": "stdout",
     "output_type": "stream",
     "text": [
      "number of vowels in the given string ' I want to become a data scientist ' is 12\n"
     ]
    }
   ],
   "source": [
    "string=\"I want to become a data scientist\"\n",
    "a=0\n",
    "for i in string.upper():\n",
    "    if i=='A' or i=='E' or i=='I' or i=='O' or i=='U':\n",
    "        a=a+1\n",
    "print(\"number of vowels in the given string '\",string,\"' is\",a)"
   ]
  },
  {
   "cell_type": "code",
   "execution_count": null,
   "id": "8c2f67d3-7187-4e81-97b7-2eaa3a8e72eb",
   "metadata": {},
   "outputs": [],
   "source": []
  }
 ],
 "metadata": {
  "kernelspec": {
   "display_name": "Python 3 (ipykernel)",
   "language": "python",
   "name": "python3"
  },
  "language_info": {
   "codemirror_mode": {
    "name": "ipython",
    "version": 3
   },
   "file_extension": ".py",
   "mimetype": "text/x-python",
   "name": "python",
   "nbconvert_exporter": "python",
   "pygments_lexer": "ipython3",
   "version": "3.10.6"
  }
 },
 "nbformat": 4,
 "nbformat_minor": 5
}
