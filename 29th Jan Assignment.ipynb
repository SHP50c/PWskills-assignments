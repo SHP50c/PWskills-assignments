{
 "cells": [
  {
   "cell_type": "raw",
   "id": "90fd1fef-3e33-424d-aaad-12dc20167d69",
   "metadata": {},
   "source": [
    "1. Who developed Python Programming Language?\n",
    "ans: Guido van Rossum began working on Python in the late 1980s as a successor to the ABC programming language and first released it in 1991 as Python 0.9.0."
   ]
  },
  {
   "cell_type": "raw",
   "id": "062ed25a-25ad-4d49-8fc1-1b8b0550a89e",
   "metadata": {},
   "source": [
    "2. Which type of Programming does Python support?\n",
    "ans: Python supports object oriented programming and structured programming."
   ]
  },
  {
   "cell_type": "raw",
   "id": "4913de81-ac51-42b2-b208-e92d606c3624",
   "metadata": {},
   "source": [
    "3. Is python case sensitive when dealing with identifiers?\n",
    "ans: Yes, python is case sensitive language, it applies to identifiers too."
   ]
  },
  {
   "cell_type": "raw",
   "id": "84c023f2-7102-4958-9a39-64a7c91f4b87",
   "metadata": {},
   "source": [
    "4. What is the correct extension of Python file?\n",
    "ans: correct extension of python file is .py"
   ]
  },
  {
   "cell_type": "raw",
   "id": "99a584b4-1a92-40c9-a1c3-2f9532082819",
   "metadata": {},
   "source": [
    "5. Is pyhton code compiled or interprited?\n",
    "ans: Python code is interprited."
   ]
  },
  {
   "cell_type": "raw",
   "id": "ef8011f7-7d97-4ca8-a64c-124742768e33",
   "metadata": {},
   "source": [
    "6. Name a few blocks of code used to define in python language?\n",
    "ans: Indentation is used in Python to defien a block. Whitespace is used for indentation in Python. All statements with the same distance to the right belong to the same block of code. If a block has to be more deeply nested, it is simply indented further to the right. "
   ]
  },
  {
   "cell_type": "raw",
   "id": "d030feab-5df8-4ad6-8a13-27cc82572940",
   "metadata": {},
   "source": [
    "7. State a character used to give single-line comment in python?\n",
    "ans: Hash (#) is used to give single-line comment in python."
   ]
  },
  {
   "cell_type": "raw",
   "id": "682d2537-af0f-4339-b9cc-640647d80060",
   "metadata": {},
   "source": [
    "8. Mention function which can help us to find the version of pyhton that we are currently using?\n",
    "ans: python.version() is the function used to find the version of python that we are currently using, it can be used as shown below."
   ]
  },
  {
   "cell_type": "code",
   "execution_count": 5,
   "id": "56a75b63-2e74-423e-a8d0-6eb45ec3c009",
   "metadata": {},
   "outputs": [
    {
     "data": {
      "text/plain": [
       "'3.10.6'"
      ]
     },
     "execution_count": 5,
     "metadata": {},
     "output_type": "execute_result"
    }
   ],
   "source": [
    "import platform\n",
    "platform.python_version()"
   ]
  },
  {
   "cell_type": "raw",
   "id": "7de822c3-843b-4cc7-ae62-1b4948e94843",
   "metadata": {},
   "source": [
    "9. Python supports the creation of anonymous functions at runtime, using a construct called?\n",
    "ans: Lambda"
   ]
  },
  {
   "cell_type": "raw",
   "id": "c093e332-b128-4e71-bcfc-045cc4ee3e31",
   "metadata": {},
   "source": [
    "10.What does PIP stands for in python?\n",
    "ans: preferred installer program"
   ]
  },
  {
   "cell_type": "raw",
   "id": "797553a0-2700-4b4a-962c-8e4f42cd928a",
   "metadata": {},
   "source": [
    "11. Mention a few built in function in python?\n",
    "ans: print(),type(),input(),pow(),max(),len(),sum()"
   ]
  },
  {
   "cell_type": "raw",
   "id": "03029805-0ce1-443f-87c1-fedaad20cbf8",
   "metadata": {},
   "source": [
    "12. what is the maximum possible length of an identifier in python?\n",
    "ans: maximum possible length of an identifier in python is 79."
   ]
  },
  {
   "cell_type": "raw",
   "id": "615a7fc5-ba89-4020-bcab-9a418f6eeb48",
   "metadata": {},
   "source": [
    "13. what are the benifits of using python?\n",
    "ans: few of the benefits of using python are mentioned below\n",
    "   i]Third-Party Modules:\n",
    "     Python Package Index (PyPI) comprises a multitude of third-party modules which makes Python integrate with other \n",
    "     languages and platforms easily.\n",
    "\n",
    "  ii]Presence of Libraries:\n",
    "     Python is fraught with numerous standard libraries that include string operations, internet protocols, web service\n",
    "     tools, Machine Learning libraries, and operating System Interfaces. The presence of these libraries essentially helps\n",
    "     in reducing the code to be written by the programmer.\n",
    "\n",
    " iii]Open Source and free:\n",
    "     Python is free for use even for commercial purposes. Moreover, active\n",
    "     developers can contribute by developing modules and appending them to the existing library.\n",
    "     \n",
    "  iv]Huge Support Community\n",
    "     Due to lack of official technical support for Python is open-sourced has prompted the development of communities that      enrich the resource bank for continued development and adoption of the language.\n",
    "\n",
    "   v]Easy to learn\n",
    "     Python is popular for its excellent readability. This means, even a non-programmer can read and comprehend the\n",
    "     uncluttered syntax. The PEP 8 guidelines provide a set of rules to help in formatting the code.\n",
    "\n",
    "  vi]User-Friendly data structures\n",
    "     With its built-in data structures, Python can easily construct run-time data structures including Arrays, Lists,\n",
    "     tuples, and Files.  \n",
    "\n",
    " vii]Speed\n",
    "     Being expressive and with object-oriented design, Python contributes to increased speed and productivity even with\n",
    "     less amount of coding. Python is considered ideal for developing complex, multi-protocol network applications."
   ]
  },
  {
   "cell_type": "raw",
   "id": "80031718-e022-41f3-8052-54d3d0078ebf",
   "metadata": {},
   "source": [
    "14. how is memory managed in python?\n",
    "ans: Memory management in Python involves a private heap containing all Python objects and data structures. The management of this private heap is ensured internally by the Python memory manager."
   ]
  },
  {
   "cell_type": "raw",
   "id": "0cdd5b72-e84f-4d8c-90b1-2e62793d4c52",
   "metadata": {},
   "source": [
    "15. how to install python in windows and set path variables?\n",
    "ans: Ton install python in windows and set path variables we need to follow certain step mentioned below.\n",
    "     i]Download the suitable python executable file from the official python website.\n",
    "    ii]run the executable file.\n",
    "   iii]once the installer is completede you'll see \"python setup succesfull window\".\n",
    "    iv]now set path for the variables.\n",
    "     v]Right-clicking This PC and going to Properties.\n",
    "    vi]Click on the Advanced system settings in the menu on the left.\n",
    "   vii]Click on the Environment Variables button on the bottom right.\n",
    "  viii]In the System variables section, selecting the Path variable and clicking on Edit. The next screen will show all the\n",
    "        directories that are currently a part of the PATH variable.\n",
    "    ix]Clicking on New and entering Python’s install directory.\n",
    "    note:-while  setting the path variable for python make sure you do not end up deleting the existing installed directories. "
   ]
  },
  {
   "cell_type": "raw",
   "id": "d3127b93-4baf-46ce-ad14-fac6f85cc6f1",
   "metadata": {},
   "source": [
    "16. Is indentation required in python?\n",
    "ans: yes, indentation is very important in python because it is use to indicate or define a block of code."
   ]
  }
 ],
 "metadata": {
  "kernelspec": {
   "display_name": "Python 3 (ipykernel)",
   "language": "python",
   "name": "python3"
  },
  "language_info": {
   "codemirror_mode": {
    "name": "ipython",
    "version": 3
   },
   "file_extension": ".py",
   "mimetype": "text/x-python",
   "name": "python",
   "nbconvert_exporter": "python",
   "pygments_lexer": "ipython3",
   "version": "3.10.6"
  }
 },
 "nbformat": 4,
 "nbformat_minor": 5
}
